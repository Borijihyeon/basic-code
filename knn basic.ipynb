{
 "cells": [
  {
   "cell_type": "code",
   "execution_count": 2,
   "id": "1d1abb7c",
   "metadata": {},
   "outputs": [],
   "source": [
    "import pandas as pd"
   ]
  },
  {
   "cell_type": "code",
   "execution_count": 3,
   "id": "57ee3a20",
   "metadata": {},
   "outputs": [
    {
     "data": {
      "text/html": [
       "<div>\n",
       "<style scoped>\n",
       "    .dataframe tbody tr th:only-of-type {\n",
       "        vertical-align: middle;\n",
       "    }\n",
       "\n",
       "    .dataframe tbody tr th {\n",
       "        vertical-align: top;\n",
       "    }\n",
       "\n",
       "    .dataframe thead th {\n",
       "        text-align: right;\n",
       "    }\n",
       "</style>\n",
       "<table border=\"1\" class=\"dataframe\">\n",
       "  <thead>\n",
       "    <tr style=\"text-align: right;\">\n",
       "      <th></th>\n",
       "      <th>sepal_length</th>\n",
       "      <th>sepal_width</th>\n",
       "      <th>petal_length</th>\n",
       "      <th>petal_width</th>\n",
       "      <th>species</th>\n",
       "    </tr>\n",
       "  </thead>\n",
       "  <tbody>\n",
       "    <tr>\n",
       "      <th>0</th>\n",
       "      <td>5.1</td>\n",
       "      <td>3.5</td>\n",
       "      <td>1.4</td>\n",
       "      <td>0.2</td>\n",
       "      <td>Iris-setosa</td>\n",
       "    </tr>\n",
       "    <tr>\n",
       "      <th>1</th>\n",
       "      <td>4.9</td>\n",
       "      <td>3.0</td>\n",
       "      <td>1.4</td>\n",
       "      <td>0.2</td>\n",
       "      <td>Iris-setosa</td>\n",
       "    </tr>\n",
       "    <tr>\n",
       "      <th>2</th>\n",
       "      <td>4.7</td>\n",
       "      <td>3.2</td>\n",
       "      <td>1.3</td>\n",
       "      <td>0.2</td>\n",
       "      <td>Iris-setosa</td>\n",
       "    </tr>\n",
       "    <tr>\n",
       "      <th>3</th>\n",
       "      <td>4.6</td>\n",
       "      <td>3.1</td>\n",
       "      <td>1.5</td>\n",
       "      <td>0.2</td>\n",
       "      <td>Iris-setosa</td>\n",
       "    </tr>\n",
       "    <tr>\n",
       "      <th>4</th>\n",
       "      <td>5.0</td>\n",
       "      <td>3.6</td>\n",
       "      <td>1.4</td>\n",
       "      <td>0.2</td>\n",
       "      <td>Iris-setosa</td>\n",
       "    </tr>\n",
       "  </tbody>\n",
       "</table>\n",
       "</div>"
      ],
      "text/plain": [
       "   sepal_length  sepal_width  petal_length  petal_width      species\n",
       "0           5.1          3.5           1.4          0.2  Iris-setosa\n",
       "1           4.9          3.0           1.4          0.2  Iris-setosa\n",
       "2           4.7          3.2           1.3          0.2  Iris-setosa\n",
       "3           4.6          3.1           1.5          0.2  Iris-setosa\n",
       "4           5.0          3.6           1.4          0.2  Iris-setosa"
      ]
     },
     "execution_count": 3,
     "metadata": {},
     "output_type": "execute_result"
    }
   ],
   "source": [
    "raw = pd.read_csv('./data/IRIS.csv')\n",
    "raw.head()"
   ]
  },
  {
   "cell_type": "code",
   "execution_count": 4,
   "id": "86e2b417",
   "metadata": {},
   "outputs": [
    {
     "data": {
      "text/plain": [
       "Iris-setosa        50\n",
       "Iris-versicolor    50\n",
       "Iris-virginica     50\n",
       "Name: species, dtype: int64"
      ]
     },
     "execution_count": 4,
     "metadata": {},
     "output_type": "execute_result"
    }
   ],
   "source": [
    "raw['species'].value_counts()"
   ]
  },
  {
   "cell_type": "code",
   "execution_count": 5,
   "id": "42ce64c3",
   "metadata": {},
   "outputs": [
    {
     "data": {
      "text/html": [
       "<div>\n",
       "<style scoped>\n",
       "    .dataframe tbody tr th:only-of-type {\n",
       "        vertical-align: middle;\n",
       "    }\n",
       "\n",
       "    .dataframe tbody tr th {\n",
       "        vertical-align: top;\n",
       "    }\n",
       "\n",
       "    .dataframe thead th {\n",
       "        text-align: right;\n",
       "    }\n",
       "</style>\n",
       "<table border=\"1\" class=\"dataframe\">\n",
       "  <thead>\n",
       "    <tr style=\"text-align: right;\">\n",
       "      <th></th>\n",
       "      <th>id</th>\n",
       "      <th>sepal_length</th>\n",
       "      <th>sepal_width</th>\n",
       "      <th>petal_length</th>\n",
       "      <th>petal_width</th>\n",
       "      <th>species</th>\n",
       "    </tr>\n",
       "  </thead>\n",
       "  <tbody>\n",
       "    <tr>\n",
       "      <th>0</th>\n",
       "      <td>0</td>\n",
       "      <td>5.1</td>\n",
       "      <td>3.5</td>\n",
       "      <td>1.4</td>\n",
       "      <td>0.2</td>\n",
       "      <td>Iris-setosa</td>\n",
       "    </tr>\n",
       "    <tr>\n",
       "      <th>1</th>\n",
       "      <td>1</td>\n",
       "      <td>4.9</td>\n",
       "      <td>3.0</td>\n",
       "      <td>1.4</td>\n",
       "      <td>0.2</td>\n",
       "      <td>Iris-setosa</td>\n",
       "    </tr>\n",
       "    <tr>\n",
       "      <th>2</th>\n",
       "      <td>2</td>\n",
       "      <td>4.7</td>\n",
       "      <td>3.2</td>\n",
       "      <td>1.3</td>\n",
       "      <td>0.2</td>\n",
       "      <td>Iris-setosa</td>\n",
       "    </tr>\n",
       "    <tr>\n",
       "      <th>3</th>\n",
       "      <td>3</td>\n",
       "      <td>4.6</td>\n",
       "      <td>3.1</td>\n",
       "      <td>1.5</td>\n",
       "      <td>0.2</td>\n",
       "      <td>Iris-setosa</td>\n",
       "    </tr>\n",
       "    <tr>\n",
       "      <th>4</th>\n",
       "      <td>4</td>\n",
       "      <td>5.0</td>\n",
       "      <td>3.6</td>\n",
       "      <td>1.4</td>\n",
       "      <td>0.2</td>\n",
       "      <td>Iris-setosa</td>\n",
       "    </tr>\n",
       "  </tbody>\n",
       "</table>\n",
       "</div>"
      ],
      "text/plain": [
       "   id  sepal_length  sepal_width  petal_length  petal_width      species\n",
       "0   0           5.1          3.5           1.4          0.2  Iris-setosa\n",
       "1   1           4.9          3.0           1.4          0.2  Iris-setosa\n",
       "2   2           4.7          3.2           1.3          0.2  Iris-setosa\n",
       "3   3           4.6          3.1           1.5          0.2  Iris-setosa\n",
       "4   4           5.0          3.6           1.4          0.2  Iris-setosa"
      ]
     },
     "execution_count": 5,
     "metadata": {},
     "output_type": "execute_result"
    }
   ],
   "source": [
    "# make IDs\n",
    "raw['id'] = range( len(raw) )\n",
    "\n",
    "# switch the columns order\n",
    "raw = raw[ ['id','sepal_length','sepal_width','petal_length','petal_width','species'] ]\n",
    "raw.head()"
   ]
  },
  {
   "cell_type": "markdown",
   "id": "1a15b40a",
   "metadata": {},
   "source": [
    "# knn (classfication)"
   ]
  },
  {
   "cell_type": "code",
   "execution_count": 6,
   "id": "f9a8c3be",
   "metadata": {},
   "outputs": [
    {
     "data": {
      "text/html": [
       "<div>\n",
       "<style scoped>\n",
       "    .dataframe tbody tr th:only-of-type {\n",
       "        vertical-align: middle;\n",
       "    }\n",
       "\n",
       "    .dataframe tbody tr th {\n",
       "        vertical-align: top;\n",
       "    }\n",
       "\n",
       "    .dataframe thead th {\n",
       "        text-align: right;\n",
       "    }\n",
       "</style>\n",
       "<table border=\"1\" class=\"dataframe\">\n",
       "  <thead>\n",
       "    <tr style=\"text-align: right;\">\n",
       "      <th></th>\n",
       "      <th>id</th>\n",
       "      <th>sepal_length</th>\n",
       "      <th>sepal_width</th>\n",
       "      <th>petal_length</th>\n",
       "      <th>petal_width</th>\n",
       "      <th>species</th>\n",
       "    </tr>\n",
       "  </thead>\n",
       "  <tbody>\n",
       "    <tr>\n",
       "      <th>0</th>\n",
       "      <td>73</td>\n",
       "      <td>6.1</td>\n",
       "      <td>2.8</td>\n",
       "      <td>4.7</td>\n",
       "      <td>1.2</td>\n",
       "      <td>Iris-versicolor</td>\n",
       "    </tr>\n",
       "    <tr>\n",
       "      <th>1</th>\n",
       "      <td>18</td>\n",
       "      <td>5.7</td>\n",
       "      <td>3.8</td>\n",
       "      <td>1.7</td>\n",
       "      <td>0.3</td>\n",
       "      <td>Iris-setosa</td>\n",
       "    </tr>\n",
       "    <tr>\n",
       "      <th>2</th>\n",
       "      <td>118</td>\n",
       "      <td>7.7</td>\n",
       "      <td>2.6</td>\n",
       "      <td>6.9</td>\n",
       "      <td>2.3</td>\n",
       "      <td>Iris-virginica</td>\n",
       "    </tr>\n",
       "    <tr>\n",
       "      <th>3</th>\n",
       "      <td>78</td>\n",
       "      <td>6.0</td>\n",
       "      <td>2.9</td>\n",
       "      <td>4.5</td>\n",
       "      <td>1.5</td>\n",
       "      <td>Iris-versicolor</td>\n",
       "    </tr>\n",
       "    <tr>\n",
       "      <th>4</th>\n",
       "      <td>76</td>\n",
       "      <td>6.8</td>\n",
       "      <td>2.8</td>\n",
       "      <td>4.8</td>\n",
       "      <td>1.4</td>\n",
       "      <td>Iris-versicolor</td>\n",
       "    </tr>\n",
       "  </tbody>\n",
       "</table>\n",
       "</div>"
      ],
      "text/plain": [
       "    id  sepal_length  sepal_width  petal_length  petal_width          species\n",
       "0   73           6.1          2.8           4.7          1.2  Iris-versicolor\n",
       "1   18           5.7          3.8           1.7          0.3      Iris-setosa\n",
       "2  118           7.7          2.6           6.9          2.3   Iris-virginica\n",
       "3   78           6.0          2.9           4.5          1.5  Iris-versicolor\n",
       "4   76           6.8          2.8           4.8          1.4  Iris-versicolor"
      ]
     },
     "execution_count": 6,
     "metadata": {},
     "output_type": "execute_result"
    }
   ],
   "source": [
    "# choose 100 iris randomly and set them as a train set.\n",
    "train = raw.sample( 100, replace = False, random_state = 42).reset_index( drop = True)\n",
    "\n",
    "train.head()"
   ]
  },
  {
   "cell_type": "code",
   "execution_count": 9,
   "id": "8bcda66f",
   "metadata": {},
   "outputs": [],
   "source": [
    "# set the rest of the data as a test set.\n",
    "test = raw.loc[ ~raw['id'].isin(train['id']) ].reset_index( drop = True )"
   ]
  },
  {
   "cell_type": "code",
   "execution_count": 10,
   "id": "8b1778d1",
   "metadata": {},
   "outputs": [],
   "source": [
    "from sklearn.neighbors import KNeighborsClassifier"
   ]
  },
  {
   "cell_type": "code",
   "execution_count": 11,
   "id": "de3d7be4",
   "metadata": {},
   "outputs": [
    {
     "name": "stdout",
     "output_type": "stream",
     "text": [
      "k = 1, 0.96\n",
      "k = 2, 0.96\n",
      "k = 3, 0.96\n",
      "k = 4, 0.96\n",
      "k = 5, 0.96\n",
      "k = 6, 0.96\n",
      "k = 7, 0.96\n",
      "k = 8, 0.98\n",
      "k = 9, 0.96\n",
      "k = 10, 0.96\n",
      "k = 11, 0.96\n",
      "k = 12, 0.96\n",
      "k = 13, 0.96\n",
      "k = 14, 0.96\n",
      "k = 15, 0.94\n",
      "k = 16, 0.96\n",
      "k = 17, 0.94\n",
      "k = 18, 0.94\n",
      "k = 19, 0.94\n",
      "k = 20, 0.94\n",
      "k = 21, 0.94\n",
      "k = 22, 0.94\n",
      "k = 23, 0.96\n",
      "k = 24, 0.96\n",
      "k = 25, 0.96\n",
      "k = 26, 0.96\n",
      "k = 27, 0.94\n",
      "k = 28, 0.94\n",
      "k = 29, 0.94\n"
     ]
    }
   ],
   "source": [
    "for k in range(1, 30):\n",
    "    \n",
    "    knn = KNeighborsClassifier(n_neighbors = k)\n",
    "    \n",
    "    knn.fit( train[ ['sepal_length','sepal_width','petal_length','petal_width'] ], train['species'] )\n",
    "    \n",
    "    predictions = knn.predict( test[ ['sepal_length','sepal_width','petal_length','petal_width'] ])\n",
    "    \n",
    "    print( f\"k = {k}, {(pd.Series(predictions) == test['species']).mean()}\" )"
   ]
  },
  {
   "cell_type": "markdown",
   "id": "d3d140d8",
   "metadata": {},
   "source": [
    "when k = 8, it is the best."
   ]
  },
  {
   "cell_type": "markdown",
   "id": "4e60778d",
   "metadata": {},
   "source": [
    "# knn (regression)"
   ]
  },
  {
   "cell_type": "code",
   "execution_count": 12,
   "id": "c1e599ab",
   "metadata": {},
   "outputs": [],
   "source": [
    "del train['species']\n",
    "del test['species']"
   ]
  },
  {
   "cell_type": "code",
   "execution_count": 13,
   "id": "5f967401",
   "metadata": {},
   "outputs": [],
   "source": [
    "from sklearn.neighbors import KNeighborsRegressor"
   ]
  },
  {
   "cell_type": "code",
   "execution_count": 16,
   "id": "42015974",
   "metadata": {},
   "outputs": [
    {
     "name": "stdout",
     "output_type": "stream",
     "text": [
      "k = 1, 0.19399999999999995\n",
      "k = 2, 0.171\n",
      "k = 3, 0.15533333333333332\n",
      "k = 4, 0.14999999999999997\n",
      "k = 5, 0.15279999999999996\n",
      "k = 6, 0.15866666666666662\n",
      "k = 7, 0.15314285714285714\n",
      "k = 8, 0.15299999999999997\n",
      "k = 9, 0.1533333333333333\n",
      "k = 10, 0.15\n",
      "k = 11, 0.15181818181818182\n",
      "k = 12, 0.15083333333333335\n",
      "k = 13, 0.15323076923076923\n",
      "k = 14, 0.157\n",
      "k = 15, 0.15813333333333335\n",
      "k = 16, 0.163375\n",
      "k = 17, 0.16929411764705882\n",
      "k = 18, 0.17511111111111105\n",
      "k = 19, 0.1767368421052632\n",
      "k = 20, 0.17860000000000004\n",
      "k = 21, 0.17942857142857147\n",
      "k = 22, 0.1820909090909091\n",
      "k = 23, 0.18295652173913043\n",
      "k = 24, 0.18350000000000002\n",
      "k = 25, 0.18688\n",
      "k = 26, 0.18876923076923074\n",
      "k = 27, 0.18718518518518515\n",
      "k = 28, 0.18721428571428572\n",
      "k = 29, 0.18917241379310343\n"
     ]
    }
   ],
   "source": [
    "for k in range(1, 30):\n",
    "    \n",
    "    knn = KNeighborsRegressor(n_neighbors = k)\n",
    "    \n",
    "    knn.fit( train[ ['sepal_length','sepal_width','petal_length'] ], train['petal_width'] )\n",
    "    \n",
    "    predictions = knn.predict( test[ ['sepal_length','sepal_width','petal_length'] ] )\n",
    "    \n",
    "    print( f\"k = {k}, {abs(test['petal_width'] - pd.Series(predictions)).mean()}\" )"
   ]
  },
  {
   "cell_type": "markdown",
   "id": "e8f9ad1d",
   "metadata": {},
   "source": [
    "when k = 4, it is the best."
   ]
  },
  {
   "cell_type": "code",
   "execution_count": null,
   "id": "798ba221",
   "metadata": {},
   "outputs": [],
   "source": []
  }
 ],
 "metadata": {
  "kernelspec": {
   "display_name": "Python 3 (ipykernel)",
   "language": "python",
   "name": "python3"
  },
  "language_info": {
   "codemirror_mode": {
    "name": "ipython",
    "version": 3
   },
   "file_extension": ".py",
   "mimetype": "text/x-python",
   "name": "python",
   "nbconvert_exporter": "python",
   "pygments_lexer": "ipython3",
   "version": "3.10.9"
  }
 },
 "nbformat": 4,
 "nbformat_minor": 5
}
