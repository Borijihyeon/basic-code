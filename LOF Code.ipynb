{
 "cells": [
  {
   "cell_type": "markdown",
   "metadata": {
    "id": "Y_h6f0IHhG_1"
   },
   "source": [
    "# **<font color=white> 04.LOF Code 실습**\n",
    "\n",
    "[목적]\n",
    "  - Local Outlier Factor Code 실습\n",
    "  - Multivariate variable (다변량)일 때 사용\n",
    "  - 각 Data마다 Score를 계산하여 Abnormal을 산출 할 수 있음\n",
    "  \n",
    "[Process]\n",
    "  1. Define Data\n",
    "  2. Modeling\n",
    "  3. Plotting"
   ]
  },
  {
   "cell_type": "code",
   "execution_count": 1,
   "metadata": {
    "colab": {
     "base_uri": "https://localhost:8080/"
    },
    "executionInfo": {
     "elapsed": 11411,
     "status": "ok",
     "timestamp": 1678271228018,
     "user": {
      "displayName": "안건이",
      "userId": "00323974519415085515"
     },
     "user_tz": -540
    },
    "id": "rhbGdhjLiNyU",
    "outputId": "5e3fd7c3-d63e-4960-b6f2-8e240f6e23f6"
   },
   "outputs": [
    {
     "name": "stdout",
     "output_type": "stream",
     "text": [
      "Looking in indexes: https://pypi.org/simple, https://us-python.pkg.dev/colab-wheels/public/simple/\n",
      "Collecting pyod\n",
      "  Downloading pyod-1.0.7.tar.gz (147 kB)\n",
      "\u001b[2K     \u001b[90m━━━━━━━━━━━━━━━━━━━━━━━━━━━━━━━━━━━━━━━\u001b[0m \u001b[32m147.7/147.7 KB\u001b[0m \u001b[31m6.6 MB/s\u001b[0m eta \u001b[36m0:00:00\u001b[0m\n",
      "\u001b[?25h  Preparing metadata (setup.py) ... \u001b[?25l\u001b[?25hdone\n",
      "Requirement already satisfied: joblib in /usr/local/lib/python3.8/dist-packages (from pyod) (1.2.0)\n",
      "Requirement already satisfied: matplotlib in /usr/local/lib/python3.8/dist-packages (from pyod) (3.5.3)\n",
      "Requirement already satisfied: numpy>=1.19 in /usr/local/lib/python3.8/dist-packages (from pyod) (1.22.4)\n",
      "Requirement already satisfied: numba>=0.51 in /usr/local/lib/python3.8/dist-packages (from pyod) (0.56.4)\n",
      "Requirement already satisfied: scipy>=1.5.1 in /usr/local/lib/python3.8/dist-packages (from pyod) (1.10.1)\n",
      "Requirement already satisfied: scikit_learn>=0.20.0 in /usr/local/lib/python3.8/dist-packages (from pyod) (1.2.1)\n",
      "Requirement already satisfied: six in /usr/local/lib/python3.8/dist-packages (from pyod) (1.15.0)\n",
      "Requirement already satisfied: statsmodels in /usr/local/lib/python3.8/dist-packages (from pyod) (0.13.5)\n",
      "Requirement already satisfied: importlib-metadata in /usr/local/lib/python3.8/dist-packages (from numba>=0.51->pyod) (6.0.0)\n",
      "Requirement already satisfied: setuptools in /usr/local/lib/python3.8/dist-packages (from numba>=0.51->pyod) (57.4.0)\n",
      "Requirement already satisfied: llvmlite<0.40,>=0.39.0dev0 in /usr/local/lib/python3.8/dist-packages (from numba>=0.51->pyod) (0.39.1)\n",
      "Requirement already satisfied: threadpoolctl>=2.0.0 in /usr/local/lib/python3.8/dist-packages (from scikit_learn>=0.20.0->pyod) (3.1.0)\n",
      "Requirement already satisfied: fonttools>=4.22.0 in /usr/local/lib/python3.8/dist-packages (from matplotlib->pyod) (4.38.0)\n",
      "Requirement already satisfied: cycler>=0.10 in /usr/local/lib/python3.8/dist-packages (from matplotlib->pyod) (0.11.0)\n",
      "Requirement already satisfied: kiwisolver>=1.0.1 in /usr/local/lib/python3.8/dist-packages (from matplotlib->pyod) (1.4.4)\n",
      "Requirement already satisfied: packaging>=20.0 in /usr/local/lib/python3.8/dist-packages (from matplotlib->pyod) (23.0)\n",
      "Requirement already satisfied: pillow>=6.2.0 in /usr/local/lib/python3.8/dist-packages (from matplotlib->pyod) (8.4.0)\n",
      "Requirement already satisfied: pyparsing>=2.2.1 in /usr/local/lib/python3.8/dist-packages (from matplotlib->pyod) (3.0.9)\n",
      "Requirement already satisfied: python-dateutil>=2.7 in /usr/local/lib/python3.8/dist-packages (from matplotlib->pyod) (2.8.2)\n",
      "Requirement already satisfied: pandas>=0.25 in /usr/local/lib/python3.8/dist-packages (from statsmodels->pyod) (1.3.5)\n",
      "Requirement already satisfied: patsy>=0.5.2 in /usr/local/lib/python3.8/dist-packages (from statsmodels->pyod) (0.5.3)\n",
      "Requirement already satisfied: pytz>=2017.3 in /usr/local/lib/python3.8/dist-packages (from pandas>=0.25->statsmodels->pyod) (2022.7.1)\n",
      "Requirement already satisfied: zipp>=0.5 in /usr/local/lib/python3.8/dist-packages (from importlib-metadata->numba>=0.51->pyod) (3.15.0)\n",
      "Building wheels for collected packages: pyod\n",
      "  Building wheel for pyod (setup.py) ... \u001b[?25l\u001b[?25hdone\n",
      "  Created wheel for pyod: filename=pyod-1.0.7-py3-none-any.whl size=181101 sha256=40fd791520f1421d62382f5d4abb733bc2ef4b9fd0b4a0466e2cf5949e45b932\n",
      "  Stored in directory: /root/.cache/pip/wheels/f7/e2/c1/1c7fd8b261e72411f6509afb429c84532e40ddcd96074473f4\n",
      "Successfully built pyod\n",
      "Installing collected packages: pyod\n",
      "Successfully installed pyod-1.0.7\n"
     ]
    }
   ],
   "source": [
    "!pip install pyod"
   ]
  },
  {
   "cell_type": "code",
   "execution_count": 2,
   "metadata": {
    "executionInfo": {
     "elapsed": 5598,
     "status": "ok",
     "timestamp": 1678271235654,
     "user": {
      "displayName": "안건이",
      "userId": "00323974519415085515"
     },
     "user_tz": -540
    },
    "id": "4SldiTkiho6U"
   },
   "outputs": [],
   "source": [
    "import tensorflow as tf\n",
    "import numpy as np\n",
    "import pandas as pd\n",
    "import matplotlib.pyplot as plt\n",
    "import seaborn as sns\n",
    "\n",
    "import warnings\n",
    "warnings.filterwarnings(\"ignore\")\n",
    "\n",
    "from pyod.utils.data import generate_data, get_outliers_inliers\n",
    "from sklearn.neighbors import LocalOutlierFactor"
   ]
  },
  {
   "cell_type": "code",
   "execution_count": 3,
   "metadata": {
    "executionInfo": {
     "elapsed": 11,
     "status": "ok",
     "timestamp": 1678271235655,
     "user": {
      "displayName": "안건이",
      "userId": "00323974519415085515"
     },
     "user_tz": -540
    },
    "id": "8NQb9GfpiBC8"
   },
   "outputs": [],
   "source": [
    "# Data Loading\n",
    "X, Y = generate_data(behaviour='new', n_features=10, \n",
    "                     train_only=True,\n",
    "                     contamination=0.1,\n",
    "                     random_state=2023)"
   ]
  },
  {
   "cell_type": "code",
   "execution_count": 4,
   "metadata": {
    "executionInfo": {
     "elapsed": 11,
     "status": "ok",
     "timestamp": 1678271235656,
     "user": {
      "displayName": "안건이",
      "userId": "00323974519415085515"
     },
     "user_tz": -540
    },
    "id": "Vaf1pDvliFHd"
   },
   "outputs": [],
   "source": [
    "# Naming for columns\n",
    "col_list = []\n",
    "for i in range(X.shape[1]):\n",
    "    a = 'X{}'.format(i+1)\n",
    "    col_list.append(a)"
   ]
  },
  {
   "cell_type": "code",
   "execution_count": 5,
   "metadata": {
    "colab": {
     "base_uri": "https://localhost:8080/"
    },
    "executionInfo": {
     "elapsed": 12,
     "status": "ok",
     "timestamp": 1678271235657,
     "user": {
      "displayName": "안건이",
      "userId": "00323974519415085515"
     },
     "user_tz": -540
    },
    "id": "N0VRZKLRiGf_",
    "outputId": "fc1fe37a-c3f9-4c49-8643-cd861f9404e0"
   },
   "outputs": [
    {
     "data": {
      "text/plain": [
       "['X1', 'X2', 'X3', 'X4', 'X5', 'X6', 'X7', 'X8', 'X9', 'X10']"
      ]
     },
     "execution_count": 5,
     "metadata": {},
     "output_type": "execute_result"
    }
   ],
   "source": [
    "# Columns Name\n",
    "col_list"
   ]
  },
  {
   "cell_type": "code",
   "execution_count": 6,
   "metadata": {
    "executionInfo": {
     "elapsed": 278,
     "status": "ok",
     "timestamp": 1678271243957,
     "user": {
      "displayName": "안건이",
      "userId": "00323974519415085515"
     },
     "user_tz": -540
    },
    "id": "FumkyAPoiHzo"
   },
   "outputs": [],
   "source": [
    "# Make DF\n",
    "df = pd.DataFrame(X, columns = col_list)\n",
    "df['Y'] = Y"
   ]
  },
  {
   "cell_type": "code",
   "execution_count": 7,
   "metadata": {
    "colab": {
     "base_uri": "https://localhost:8080/",
     "height": 423
    },
    "executionInfo": {
     "elapsed": 290,
     "status": "ok",
     "timestamp": 1678271244820,
     "user": {
      "displayName": "안건이",
      "userId": "00323974519415085515"
     },
     "user_tz": -540
    },
    "id": "5hx_D2GHiI88",
    "outputId": "4ba75811-1964-4b19-c9d5-cee3b1adb4a7"
   },
   "outputs": [
    {
     "data": {
      "text/html": [
       "\n",
       "  <div id=\"df-149f6ee6-5402-45c3-af7d-cd1368985366\">\n",
       "    <div class=\"colab-df-container\">\n",
       "      <div>\n",
       "<style scoped>\n",
       "    .dataframe tbody tr th:only-of-type {\n",
       "        vertical-align: middle;\n",
       "    }\n",
       "\n",
       "    .dataframe tbody tr th {\n",
       "        vertical-align: top;\n",
       "    }\n",
       "\n",
       "    .dataframe thead th {\n",
       "        text-align: right;\n",
       "    }\n",
       "</style>\n",
       "<table border=\"1\" class=\"dataframe\">\n",
       "  <thead>\n",
       "    <tr style=\"text-align: right;\">\n",
       "      <th></th>\n",
       "      <th>X1</th>\n",
       "      <th>X2</th>\n",
       "      <th>X3</th>\n",
       "      <th>X4</th>\n",
       "      <th>X5</th>\n",
       "      <th>X6</th>\n",
       "      <th>X7</th>\n",
       "      <th>X8</th>\n",
       "      <th>X9</th>\n",
       "      <th>X10</th>\n",
       "      <th>Y</th>\n",
       "    </tr>\n",
       "  </thead>\n",
       "  <tbody>\n",
       "    <tr>\n",
       "      <th>0</th>\n",
       "      <td>8.147125</td>\n",
       "      <td>6.595282</td>\n",
       "      <td>6.353558</td>\n",
       "      <td>6.653506</td>\n",
       "      <td>8.134808</td>\n",
       "      <td>7.426514</td>\n",
       "      <td>6.474067</td>\n",
       "      <td>7.230509</td>\n",
       "      <td>7.457418</td>\n",
       "      <td>6.916700</td>\n",
       "      <td>0.0</td>\n",
       "    </tr>\n",
       "    <tr>\n",
       "      <th>1</th>\n",
       "      <td>6.872178</td>\n",
       "      <td>6.596448</td>\n",
       "      <td>7.349710</td>\n",
       "      <td>7.097543</td>\n",
       "      <td>7.024347</td>\n",
       "      <td>6.615302</td>\n",
       "      <td>6.753538</td>\n",
       "      <td>7.218030</td>\n",
       "      <td>7.819604</td>\n",
       "      <td>6.563562</td>\n",
       "      <td>0.0</td>\n",
       "    </tr>\n",
       "    <tr>\n",
       "      <th>2</th>\n",
       "      <td>6.910465</td>\n",
       "      <td>5.856827</td>\n",
       "      <td>6.495701</td>\n",
       "      <td>6.598612</td>\n",
       "      <td>8.042650</td>\n",
       "      <td>6.205240</td>\n",
       "      <td>7.024534</td>\n",
       "      <td>6.822316</td>\n",
       "      <td>7.475852</td>\n",
       "      <td>7.106808</td>\n",
       "      <td>0.0</td>\n",
       "    </tr>\n",
       "    <tr>\n",
       "      <th>3</th>\n",
       "      <td>6.901166</td>\n",
       "      <td>6.942458</td>\n",
       "      <td>6.354764</td>\n",
       "      <td>6.447391</td>\n",
       "      <td>6.595218</td>\n",
       "      <td>7.941335</td>\n",
       "      <td>6.104982</td>\n",
       "      <td>6.930397</td>\n",
       "      <td>8.076817</td>\n",
       "      <td>7.715245</td>\n",
       "      <td>0.0</td>\n",
       "    </tr>\n",
       "    <tr>\n",
       "      <th>4</th>\n",
       "      <td>7.465372</td>\n",
       "      <td>6.305800</td>\n",
       "      <td>7.858624</td>\n",
       "      <td>6.456638</td>\n",
       "      <td>7.610647</td>\n",
       "      <td>6.530033</td>\n",
       "      <td>7.509274</td>\n",
       "      <td>7.636209</td>\n",
       "      <td>7.650121</td>\n",
       "      <td>7.043726</td>\n",
       "      <td>0.0</td>\n",
       "    </tr>\n",
       "    <tr>\n",
       "      <th>...</th>\n",
       "      <td>...</td>\n",
       "      <td>...</td>\n",
       "      <td>...</td>\n",
       "      <td>...</td>\n",
       "      <td>...</td>\n",
       "      <td>...</td>\n",
       "      <td>...</td>\n",
       "      <td>...</td>\n",
       "      <td>...</td>\n",
       "      <td>...</td>\n",
       "      <td>...</td>\n",
       "    </tr>\n",
       "    <tr>\n",
       "      <th>995</th>\n",
       "      <td>-0.018529</td>\n",
       "      <td>5.163813</td>\n",
       "      <td>5.468692</td>\n",
       "      <td>-2.640285</td>\n",
       "      <td>-0.578817</td>\n",
       "      <td>1.487439</td>\n",
       "      <td>2.359938</td>\n",
       "      <td>-6.462774</td>\n",
       "      <td>2.466932</td>\n",
       "      <td>1.323520</td>\n",
       "      <td>1.0</td>\n",
       "    </tr>\n",
       "    <tr>\n",
       "      <th>996</th>\n",
       "      <td>3.328107</td>\n",
       "      <td>0.614357</td>\n",
       "      <td>5.886779</td>\n",
       "      <td>6.717434</td>\n",
       "      <td>2.906959</td>\n",
       "      <td>-6.980421</td>\n",
       "      <td>2.245124</td>\n",
       "      <td>-2.790132</td>\n",
       "      <td>-4.169568</td>\n",
       "      <td>0.832299</td>\n",
       "      <td>1.0</td>\n",
       "    </tr>\n",
       "    <tr>\n",
       "      <th>997</th>\n",
       "      <td>4.516967</td>\n",
       "      <td>-5.648011</td>\n",
       "      <td>-5.330594</td>\n",
       "      <td>-6.352683</td>\n",
       "      <td>-1.796092</td>\n",
       "      <td>5.129173</td>\n",
       "      <td>3.517025</td>\n",
       "      <td>-0.234736</td>\n",
       "      <td>1.941775</td>\n",
       "      <td>5.095802</td>\n",
       "      <td>1.0</td>\n",
       "    </tr>\n",
       "    <tr>\n",
       "      <th>998</th>\n",
       "      <td>2.223976</td>\n",
       "      <td>-4.295404</td>\n",
       "      <td>2.192168</td>\n",
       "      <td>1.202558</td>\n",
       "      <td>5.348682</td>\n",
       "      <td>3.638888</td>\n",
       "      <td>5.204538</td>\n",
       "      <td>2.540078</td>\n",
       "      <td>-5.530535</td>\n",
       "      <td>5.884657</td>\n",
       "      <td>1.0</td>\n",
       "    </tr>\n",
       "    <tr>\n",
       "      <th>999</th>\n",
       "      <td>-2.664987</td>\n",
       "      <td>3.525009</td>\n",
       "      <td>1.695740</td>\n",
       "      <td>2.237359</td>\n",
       "      <td>-3.769505</td>\n",
       "      <td>-5.775498</td>\n",
       "      <td>3.883142</td>\n",
       "      <td>-5.317296</td>\n",
       "      <td>5.945613</td>\n",
       "      <td>6.619147</td>\n",
       "      <td>1.0</td>\n",
       "    </tr>\n",
       "  </tbody>\n",
       "</table>\n",
       "<p>1000 rows × 11 columns</p>\n",
       "</div>\n",
       "      <button class=\"colab-df-convert\" onclick=\"convertToInteractive('df-149f6ee6-5402-45c3-af7d-cd1368985366')\"\n",
       "              title=\"Convert this dataframe to an interactive table.\"\n",
       "              style=\"display:none;\">\n",
       "        \n",
       "  <svg xmlns=\"http://www.w3.org/2000/svg\" height=\"24px\"viewBox=\"0 0 24 24\"\n",
       "       width=\"24px\">\n",
       "    <path d=\"M0 0h24v24H0V0z\" fill=\"none\"/>\n",
       "    <path d=\"M18.56 5.44l.94 2.06.94-2.06 2.06-.94-2.06-.94-.94-2.06-.94 2.06-2.06.94zm-11 1L8.5 8.5l.94-2.06 2.06-.94-2.06-.94L8.5 2.5l-.94 2.06-2.06.94zm10 10l.94 2.06.94-2.06 2.06-.94-2.06-.94-.94-2.06-.94 2.06-2.06.94z\"/><path d=\"M17.41 7.96l-1.37-1.37c-.4-.4-.92-.59-1.43-.59-.52 0-1.04.2-1.43.59L10.3 9.45l-7.72 7.72c-.78.78-.78 2.05 0 2.83L4 21.41c.39.39.9.59 1.41.59.51 0 1.02-.2 1.41-.59l7.78-7.78 2.81-2.81c.8-.78.8-2.07 0-2.86zM5.41 20L4 18.59l7.72-7.72 1.47 1.35L5.41 20z\"/>\n",
       "  </svg>\n",
       "      </button>\n",
       "      \n",
       "  <style>\n",
       "    .colab-df-container {\n",
       "      display:flex;\n",
       "      flex-wrap:wrap;\n",
       "      gap: 12px;\n",
       "    }\n",
       "\n",
       "    .colab-df-convert {\n",
       "      background-color: #E8F0FE;\n",
       "      border: none;\n",
       "      border-radius: 50%;\n",
       "      cursor: pointer;\n",
       "      display: none;\n",
       "      fill: #1967D2;\n",
       "      height: 32px;\n",
       "      padding: 0 0 0 0;\n",
       "      width: 32px;\n",
       "    }\n",
       "\n",
       "    .colab-df-convert:hover {\n",
       "      background-color: #E2EBFA;\n",
       "      box-shadow: 0px 1px 2px rgba(60, 64, 67, 0.3), 0px 1px 3px 1px rgba(60, 64, 67, 0.15);\n",
       "      fill: #174EA6;\n",
       "    }\n",
       "\n",
       "    [theme=dark] .colab-df-convert {\n",
       "      background-color: #3B4455;\n",
       "      fill: #D2E3FC;\n",
       "    }\n",
       "\n",
       "    [theme=dark] .colab-df-convert:hover {\n",
       "      background-color: #434B5C;\n",
       "      box-shadow: 0px 1px 3px 1px rgba(0, 0, 0, 0.15);\n",
       "      filter: drop-shadow(0px 1px 2px rgba(0, 0, 0, 0.3));\n",
       "      fill: #FFFFFF;\n",
       "    }\n",
       "  </style>\n",
       "\n",
       "      <script>\n",
       "        const buttonEl =\n",
       "          document.querySelector('#df-149f6ee6-5402-45c3-af7d-cd1368985366 button.colab-df-convert');\n",
       "        buttonEl.style.display =\n",
       "          google.colab.kernel.accessAllowed ? 'block' : 'none';\n",
       "\n",
       "        async function convertToInteractive(key) {\n",
       "          const element = document.querySelector('#df-149f6ee6-5402-45c3-af7d-cd1368985366');\n",
       "          const dataTable =\n",
       "            await google.colab.kernel.invokeFunction('convertToInteractive',\n",
       "                                                     [key], {});\n",
       "          if (!dataTable) return;\n",
       "\n",
       "          const docLinkHtml = 'Like what you see? Visit the ' +\n",
       "            '<a target=\"_blank\" href=https://colab.research.google.com/notebooks/data_table.ipynb>data table notebook</a>'\n",
       "            + ' to learn more about interactive tables.';\n",
       "          element.innerHTML = '';\n",
       "          dataTable['output_type'] = 'display_data';\n",
       "          await google.colab.output.renderOutput(dataTable, element);\n",
       "          const docLink = document.createElement('div');\n",
       "          docLink.innerHTML = docLinkHtml;\n",
       "          element.appendChild(docLink);\n",
       "        }\n",
       "      </script>\n",
       "    </div>\n",
       "  </div>\n",
       "  "
      ],
      "text/plain": [
       "           X1        X2        X3        X4        X5        X6        X7  \\\n",
       "0    8.147125  6.595282  6.353558  6.653506  8.134808  7.426514  6.474067   \n",
       "1    6.872178  6.596448  7.349710  7.097543  7.024347  6.615302  6.753538   \n",
       "2    6.910465  5.856827  6.495701  6.598612  8.042650  6.205240  7.024534   \n",
       "3    6.901166  6.942458  6.354764  6.447391  6.595218  7.941335  6.104982   \n",
       "4    7.465372  6.305800  7.858624  6.456638  7.610647  6.530033  7.509274   \n",
       "..        ...       ...       ...       ...       ...       ...       ...   \n",
       "995 -0.018529  5.163813  5.468692 -2.640285 -0.578817  1.487439  2.359938   \n",
       "996  3.328107  0.614357  5.886779  6.717434  2.906959 -6.980421  2.245124   \n",
       "997  4.516967 -5.648011 -5.330594 -6.352683 -1.796092  5.129173  3.517025   \n",
       "998  2.223976 -4.295404  2.192168  1.202558  5.348682  3.638888  5.204538   \n",
       "999 -2.664987  3.525009  1.695740  2.237359 -3.769505 -5.775498  3.883142   \n",
       "\n",
       "           X8        X9       X10    Y  \n",
       "0    7.230509  7.457418  6.916700  0.0  \n",
       "1    7.218030  7.819604  6.563562  0.0  \n",
       "2    6.822316  7.475852  7.106808  0.0  \n",
       "3    6.930397  8.076817  7.715245  0.0  \n",
       "4    7.636209  7.650121  7.043726  0.0  \n",
       "..        ...       ...       ...  ...  \n",
       "995 -6.462774  2.466932  1.323520  1.0  \n",
       "996 -2.790132 -4.169568  0.832299  1.0  \n",
       "997 -0.234736  1.941775  5.095802  1.0  \n",
       "998  2.540078 -5.530535  5.884657  1.0  \n",
       "999 -5.317296  5.945613  6.619147  1.0  \n",
       "\n",
       "[1000 rows x 11 columns]"
      ]
     },
     "execution_count": 7,
     "metadata": {},
     "output_type": "execute_result"
    }
   ],
   "source": [
    "df"
   ]
  },
  {
   "cell_type": "code",
   "execution_count": 8,
   "metadata": {
    "colab": {
     "base_uri": "https://localhost:8080/",
     "height": 313
    },
    "executionInfo": {
     "elapsed": 1252,
     "status": "ok",
     "timestamp": 1678271247965,
     "user": {
      "displayName": "안건이",
      "userId": "00323974519415085515"
     },
     "user_tz": -540
    },
    "id": "n2SLKlVXiK__",
    "outputId": "e796e5c7-ad33-419c-efbd-4dcc96d93b02"
   },
   "outputs": [
    {
     "data": {
      "text/plain": [
       "Text(0.5, 1.0, 'Ground Truth')"
      ]
     },
     "execution_count": 8,
     "metadata": {},
     "output_type": "execute_result"
    },
    {
     "data": {
      "image/png": "[encoded data removed]",
      "text/plain": [
       "<Figure size 432x288 with 1 Axes>"
      ]
     },
     "metadata": {
      "needs_background": "light"
     },
     "output_type": "display_data"
    }
   ],
   "source": [
    "# Data 분포 확인하기 X1, X2\n",
    "sns.scatterplot(x='X1', y='X2', hue='Y', data=df);\n",
    "plt.title('Ground Truth')"
   ]
  },
  {
   "cell_type": "markdown",
   "metadata": {
    "id": "fh8bsd1NjNfJ"
   },
   "source": [
    "[Local Outlier Factor Parameter]\n",
    "  - package : https://scikit-learn.org/stable/modules/generated/sklearn.neighbors.LocalOutlierFactor.html\n",
    "  - n_neighbors : 밀도를 계산하고자 하는 주변 관측치 개수\n",
    "  - algorithm : ['auto', 'ball_tree', 'kd_tree', 'brute'], default='auto'\n",
    "     - 가까운 이웃을 계산하는데 쓰이는 알고리즘\n",
    "  - leaf_size : Tree algorithm에서 leaf node의 개수, default=30\n",
    "     - 'ball_tree', 'KD_Tree'를 사용할때 사용되는 parameter\n",
    "  - metric : ['cityblock', 'cosine', 'euclidean', 'l1', 'l2', 'manhattan', 'minkowski'], default='minkowski'\n",
    "  - p : minkowski를 사용할때 사용되는 param\n",
    "     - When p = 1, this is equivalent to using manhattan_distance (l1), and euclidean_distance (l2) for p = 2.\n",
    "     - 따라서, Metric 쪽을 그냥 가만히 냅두면 Just euclidean_distance"
   ]
  },
  {
   "cell_type": "code",
   "execution_count": 9,
   "metadata": {
    "executionInfo": {
     "elapsed": 6,
     "status": "ok",
     "timestamp": 1678271506142,
     "user": {
      "displayName": "안건이",
      "userId": "00323974519415085515"
     },
     "user_tz": -540
    },
    "id": "OzHjgoXfxtsQ"
   },
   "outputs": [],
   "source": [
    "# LOF Setup\n",
    "LOF = LocalOutlierFactor(n_neighbors=10, contamination=0.1)\n",
    "y_pred = LOF.fit_predict(df[['X1', 'X2']])"
   ]
  },
  {
   "cell_type": "code",
   "execution_count": 11,
   "metadata": {
    "colab": {
     "base_uri": "https://localhost:8080/"
    },
    "executionInfo": {
     "elapsed": 282,
     "status": "ok",
     "timestamp": 1678271533399,
     "user": {
      "displayName": "안건이",
      "userId": "00323974519415085515"
     },
     "user_tz": -540
    },
    "id": "SKI5SZnsxzm3",
    "outputId": "7e8d89b9-b14d-4fbf-c3d1-c19a7d067f61"
   },
   "outputs": [
    {
     "data": {
      "text/plain": [
       "0      0.0\n",
       "1      0.0\n",
       "2      0.0\n",
       "3      0.0\n",
       "4      0.0\n",
       "      ... \n",
       "995    1.0\n",
       "996    1.0\n",
       "997    1.0\n",
       "998    1.0\n",
       "999    1.0\n",
       "Name: Y, Length: 1000, dtype: float64"
      ]
     },
     "execution_count": 11,
     "metadata": {},
     "output_type": "execute_result"
    }
   ],
   "source": [
    "df['Y']"
   ]
  },
  {
   "cell_type": "code",
   "execution_count": 10,
   "metadata": {
    "colab": {
     "base_uri": "https://localhost:8080/"
    },
    "executionInfo": {
     "elapsed": 6,
     "status": "ok",
     "timestamp": 1678271518429,
     "user": {
      "displayName": "안건이",
      "userId": "00323974519415085515"
     },
     "user_tz": -540
    },
    "id": "yTDaOZmxxwNu",
    "outputId": "17068966-1706-43b1-e45d-2e35222de2c4"
   },
   "outputs": [
    {
     "data": {
      "text/plain": [
       "array([ 1,  1,  1,  1,  1,  1,  1,  1,  1,  1,  1,  1,  1,  1, -1,  1,  1,\n",
       "        1,  1,  1,  1, -1,  1,  1, -1,  1,  1,  1,  1, -1,  1,  1,  1,  1,\n",
       "        1,  1,  1,  1,  1, -1,  1,  1,  1,  1,  1,  1,  1,  1,  1,  1,  1,\n",
       "        1,  1,  1,  1,  1,  1,  1,  1,  1, -1,  1, -1,  1,  1,  1, -1,  1,\n",
       "        1,  1,  1,  1,  1,  1, -1,  1,  1,  1, -1,  1,  1, -1,  1,  1,  1,\n",
       "       -1,  1,  1,  1,  1,  1,  1,  1, -1,  1,  1,  1,  1,  1,  1,  1,  1,\n",
       "        1,  1,  1,  1,  1,  1,  1,  1,  1,  1,  1,  1,  1,  1,  1,  1,  1,\n",
       "       -1,  1, -1,  1,  1,  1,  1,  1, -1,  1,  1,  1,  1,  1,  1, -1,  1,\n",
       "        1,  1,  1,  1, -1,  1,  1,  1, -1,  1,  1,  1,  1,  1,  1, -1,  1,\n",
       "        1,  1,  1,  1, -1,  1,  1,  1,  1,  1,  1,  1,  1,  1,  1,  1,  1,\n",
       "        1,  1,  1,  1,  1,  1,  1,  1,  1,  1,  1, -1,  1,  1,  1,  1,  1,\n",
       "        1,  1,  1,  1,  1,  1,  1,  1, -1, -1,  1,  1,  1,  1,  1,  1, -1,\n",
       "        1,  1,  1,  1, -1,  1,  1,  1,  1,  1,  1,  1,  1,  1,  1,  1,  1,\n",
       "        1,  1,  1,  1,  1,  1,  1,  1,  1,  1,  1,  1,  1,  1,  1, -1,  1,\n",
       "        1,  1,  1,  1,  1,  1,  1,  1,  1,  1,  1,  1,  1,  1,  1,  1,  1,\n",
       "        1,  1,  1,  1,  1,  1,  1,  1,  1, -1,  1, -1,  1,  1,  1,  1,  1,\n",
       "        1,  1,  1,  1,  1, -1,  1,  1,  1,  1,  1, -1,  1,  1,  1,  1,  1,\n",
       "        1,  1,  1,  1,  1,  1,  1, -1,  1,  1,  1,  1,  1,  1,  1,  1,  1,\n",
       "        1,  1,  1,  1,  1,  1, -1,  1,  1,  1,  1,  1,  1,  1, -1,  1,  1,\n",
       "        1,  1,  1, -1,  1,  1,  1,  1,  1,  1,  1,  1,  1,  1,  1,  1,  1,\n",
       "        1,  1,  1,  1, -1, -1,  1,  1, -1,  1,  1,  1,  1,  1,  1,  1,  1,\n",
       "        1,  1,  1,  1,  1,  1, -1,  1,  1,  1,  1,  1,  1,  1,  1,  1,  1,\n",
       "        1,  1,  1,  1,  1,  1,  1,  1,  1,  1, -1,  1,  1,  1,  1,  1,  1,\n",
       "        1,  1,  1,  1,  1,  1,  1,  1,  1,  1,  1,  1,  1, -1,  1,  1,  1,\n",
       "       -1,  1,  1,  1,  1,  1,  1,  1,  1,  1,  1, -1,  1, -1,  1,  1,  1,\n",
       "       -1,  1,  1,  1,  1,  1,  1,  1, -1,  1,  1,  1,  1,  1,  1, -1,  1,\n",
       "        1,  1,  1,  1,  1,  1,  1,  1,  1,  1,  1,  1,  1,  1, -1,  1,  1,\n",
       "        1,  1,  1, -1,  1,  1,  1,  1,  1,  1,  1,  1,  1,  1,  1,  1, -1,\n",
       "       -1,  1, -1,  1,  1,  1,  1,  1,  1,  1,  1,  1,  1,  1,  1,  1,  1,\n",
       "        1,  1,  1,  1,  1,  1,  1,  1,  1, -1,  1,  1,  1,  1,  1,  1,  1,\n",
       "        1,  1,  1,  1,  1,  1,  1, -1,  1,  1,  1, -1,  1,  1, -1,  1, -1,\n",
       "       -1,  1,  1,  1,  1,  1,  1,  1,  1,  1,  1,  1,  1,  1,  1, -1,  1,\n",
       "        1,  1,  1,  1,  1,  1,  1,  1,  1,  1,  1,  1,  1,  1,  1,  1,  1,\n",
       "       -1,  1,  1,  1,  1,  1,  1,  1,  1,  1,  1,  1,  1,  1,  1,  1,  1,\n",
       "        1,  1,  1,  1,  1,  1,  1,  1,  1,  1,  1,  1,  1,  1,  1,  1,  1,\n",
       "        1,  1,  1,  1,  1,  1,  1,  1,  1, -1,  1,  1,  1,  1,  1, -1,  1,\n",
       "        1,  1,  1,  1,  1,  1,  1,  1,  1,  1,  1,  1,  1,  1,  1,  1,  1,\n",
       "        1,  1,  1,  1,  1,  1,  1,  1,  1,  1,  1,  1,  1,  1,  1,  1,  1,\n",
       "        1,  1, -1,  1,  1,  1,  1,  1,  1,  1,  1,  1,  1,  1,  1,  1, -1,\n",
       "        1,  1, -1,  1,  1,  1,  1,  1,  1,  1,  1,  1,  1,  1,  1,  1,  1,\n",
       "        1,  1,  1,  1,  1,  1,  1,  1,  1,  1,  1,  1,  1,  1,  1,  1,  1,\n",
       "        1,  1,  1,  1,  1,  1, -1, -1,  1,  1,  1,  1,  1,  1,  1,  1,  1,\n",
       "        1,  1,  1,  1,  1,  1,  1,  1, -1,  1, -1,  1,  1,  1,  1, -1,  1,\n",
       "        1,  1,  1,  1,  1,  1,  1,  1,  1,  1,  1,  1,  1,  1,  1,  1,  1,\n",
       "        1,  1,  1, -1,  1,  1,  1,  1,  1,  1,  1,  1,  1,  1,  1,  1,  1,\n",
       "       -1,  1,  1,  1,  1,  1,  1,  1,  1,  1,  1,  1, -1,  1,  1,  1,  1,\n",
       "        1,  1,  1,  1,  1,  1, -1,  1,  1,  1,  1,  1,  1,  1,  1,  1,  1,\n",
       "        1,  1,  1,  1,  1,  1,  1,  1,  1,  1,  1, -1,  1, -1,  1, -1, -1,\n",
       "        1,  1,  1,  1,  1,  1,  1,  1,  1, -1,  1,  1,  1,  1, -1,  1,  1,\n",
       "        1,  1,  1,  1,  1,  1,  1,  1,  1, -1,  1,  1,  1,  1,  1, -1,  1,\n",
       "       -1,  1,  1,  1,  1,  1,  1,  1,  1,  1,  1,  1,  1,  1,  1,  1,  1,\n",
       "        1,  1,  1,  1,  1, -1,  1, -1,  1,  1,  1,  1,  1,  1,  1,  1,  1,\n",
       "        1,  1,  1,  1,  1,  1,  1,  1,  1,  1,  1,  1,  1,  1, -1,  1,  1,\n",
       "        1,  1,  1, -1, -1,  1,  1,  1, -1,  1,  1,  1,  1,  1,  1,  1,  1,\n",
       "        1,  1,  1,  1,  1,  1,  1, -1,  1,  1, -1,  1,  1,  1,  1,  1,  1,\n",
       "        1,  1,  1,  1,  1,  1,  1,  1,  1,  1,  1,  1,  1,  1,  1,  1,  1,\n",
       "        1,  1,  1, -1,  1,  1, -1,  1, -1,  1,  1,  1, -1,  1,  1,  1, -1,\n",
       "        1,  1,  1,  1,  1, -1,  1,  1,  1, -1,  1, -1,  1,  1,  1,  1,  1,\n",
       "        1,  1,  1,  1,  1, -1,  1,  1,  1,  1,  1,  1,  1,  1])"
      ]
     },
     "execution_count": 10,
     "metadata": {},
     "output_type": "execute_result"
    }
   ],
   "source": [
    "y_pred"
   ]
  },
  {
   "cell_type": "code",
   "execution_count": 12,
   "metadata": {
    "executionInfo": {
     "elapsed": 5,
     "status": "ok",
     "timestamp": 1678271605699,
     "user": {
      "displayName": "안건이",
      "userId": "00323974519415085515"
     },
     "user_tz": -540
    },
    "id": "q272m3pziULI"
   },
   "outputs": [],
   "source": [
    "# LOF Setup\n",
    "LOF = LocalOutlierFactor(n_neighbors=10, contamination=0.1)\n",
    "y_pred = LOF.fit_predict(df[['X1', 'X2']])\n",
    "\n",
    "for i in range(y_pred.shape[0]):\n",
    "    if y_pred[i] == 1:\n",
    "        y_pred[i] = 0\n",
    "    else:\n",
    "        y_pred[i] = 1\n",
    "\n",
    "n_errors = (y_pred != df['Y']).sum()\n",
    "X_scores = LOF.negative_outlier_factor_"
   ]
  },
  {
   "cell_type": "code",
   "execution_count": 13,
   "metadata": {
    "colab": {
     "base_uri": "https://localhost:8080/"
    },
    "executionInfo": {
     "elapsed": 271,
     "status": "ok",
     "timestamp": 1678271625798,
     "user": {
      "displayName": "안건이",
      "userId": "00323974519415085515"
     },
     "user_tz": -540
    },
    "id": "pQYuTnamyJm0",
    "outputId": "aa5e640c-2a1f-4663-f078-7fb9167a5ca2"
   },
   "outputs": [
    {
     "data": {
      "text/plain": [
       "172"
      ]
     },
     "execution_count": 13,
     "metadata": {},
     "output_type": "execute_result"
    }
   ],
   "source": [
    "n_errors"
   ]
  },
  {
   "cell_type": "code",
   "execution_count": 15,
   "metadata": {
    "executionInfo": {
     "elapsed": 436,
     "status": "ok",
     "timestamp": 1678271653487,
     "user": {
      "displayName": "안건이",
      "userId": "00323974519415085515"
     },
     "user_tz": -540
    },
    "id": "-D1vqrxEyR4-"
   },
   "outputs": [],
   "source": [
    "radius = (X_scores.max() - X_scores) / (X_scores.max() - X_scores.min())"
   ]
  },
  {
   "cell_type": "code",
   "execution_count": 16,
   "metadata": {
    "colab": {
     "base_uri": "https://localhost:8080/"
    },
    "executionInfo": {
     "elapsed": 5,
     "status": "ok",
     "timestamp": 1678271662004,
     "user": {
      "displayName": "안건이",
      "userId": "00323974519415085515"
     },
     "user_tz": -540
    },
    "id": "sOK3ZnXKyTvh",
    "outputId": "2d5c02ca-0bde-4129-8de5-992039c9f873"
   },
   "outputs": [
    {
     "data": {
      "text/plain": [
       "array([2.66198055e-02, 4.82741773e-02, 7.29723224e-02, 1.93308014e-02,\n",
       "       2.11824704e-02, 4.02571996e-02, 1.68277443e-02, 2.16373668e-02,\n",
       "       2.13215927e-02, 2.91579740e-02, 2.27158793e-02, 1.07845488e-02,\n",
       "       1.54276638e-02, 4.37850310e-02, 2.44853969e-01, 2.42051955e-02,\n",
       "       4.02390506e-02, 2.25780713e-02, 7.08678300e-02, 2.03333562e-02,\n",
       "       2.77721601e-02, 1.30022415e-01, 2.09368851e-02, 2.76268143e-02,\n",
       "       1.98698587e-01, 2.41340542e-02, 1.86827870e-02, 5.01374859e-02,\n",
       "       2.59937315e-02, 1.32555795e-01, 2.19093129e-02, 2.59186224e-02,\n",
       "       1.95745420e-02, 1.52855292e-02, 1.97580080e-02, 2.89571688e-02,\n",
       "       3.74236914e-02, 2.41839980e-02, 2.90097821e-02, 1.74761099e-01,\n",
       "       3.11472371e-02, 8.73505727e-03, 3.84798852e-02, 2.96926165e-02,\n",
       "       2.68697246e-02, 2.11191585e-02, 2.18393243e-02, 5.86008402e-02,\n",
       "       1.95061410e-02, 2.47858861e-02, 2.66233623e-02, 3.96079487e-02,\n",
       "       6.85516903e-02, 3.96072039e-02, 3.70686994e-02, 1.98583552e-02,\n",
       "       4.70037425e-02, 3.91892753e-02, 4.39914110e-02, 3.53392935e-02,\n",
       "       1.00314928e-01, 3.21477608e-02, 2.41235339e-01, 2.25194056e-02,\n",
       "       2.10363592e-02, 4.53712535e-02, 1.50078806e-01, 1.59408348e-02,\n",
       "       7.11977835e-02, 5.28073111e-02, 1.23578431e-02, 2.49987405e-02,\n",
       "       4.07748964e-02, 7.00060888e-02, 2.52563017e-01, 2.55097324e-02,\n",
       "       3.85430619e-02, 2.45484078e-02, 2.67644822e-01, 2.30351772e-02,\n",
       "       1.53232178e-02, 2.09390929e-01, 2.84882152e-02, 1.34495095e-02,\n",
       "       7.29120833e-02, 3.95758682e-01, 2.18539574e-02, 6.78882803e-02,\n",
       "       9.81921012e-03, 3.14818700e-02, 3.50640524e-02, 4.91152599e-02,\n",
       "       5.45032029e-03, 1.86202104e-01, 2.53824649e-02, 9.22205611e-03,\n",
       "       1.99490738e-02, 2.49003679e-02, 1.52782788e-02, 2.62995712e-02,\n",
       "       2.24831948e-02, 2.48963227e-02, 3.20859707e-02, 2.54241578e-02,\n",
       "       3.42380397e-02, 1.32451635e-02, 8.52487755e-03, 1.53604917e-02,\n",
       "       3.06482034e-02, 3.20273440e-02, 1.85841507e-02, 5.56237149e-02,\n",
       "       4.92532979e-02, 2.59829381e-02, 5.50116143e-03, 7.73913852e-02,\n",
       "       7.91020720e-02, 6.56389659e-02, 4.55143121e-02, 2.67749707e-01,\n",
       "       2.25722019e-02, 6.47496757e-01, 4.27160139e-02, 3.65343474e-02,\n",
       "       1.31846549e-02, 1.36237309e-02, 3.07351514e-02, 3.19570694e-01,\n",
       "       6.34935238e-02, 3.70608558e-02, 1.74595950e-02, 1.66712277e-02,\n",
       "       4.87601974e-02, 2.99076425e-02, 3.48086106e-01, 1.07553960e-02,\n",
       "       2.33381962e-02, 8.75797650e-02, 2.15889876e-02, 3.26387342e-02,\n",
       "       2.74418454e-01, 9.08936522e-03, 2.83311646e-02, 2.53142194e-02,\n",
       "       1.77121804e-01, 2.59542903e-02, 1.97043025e-02, 4.03475643e-02,\n",
       "       7.23333499e-02, 5.99084764e-02, 2.47285964e-02, 1.04503775e-01,\n",
       "       4.74716074e-02, 3.13323869e-02, 3.47095166e-02, 3.89705831e-02,\n",
       "       3.35832854e-02, 5.84923586e-01, 2.29474579e-02, 8.60468639e-02,\n",
       "       2.95573054e-02, 7.10163106e-02, 4.90216553e-02, 2.86468157e-02,\n",
       "       1.23068505e-02, 2.69565810e-02, 3.83392102e-02, 1.16939235e-02,\n",
       "       1.15591596e-02, 2.88904166e-02, 1.84861097e-02, 5.08392202e-02,\n",
       "       2.45208756e-02, 1.38304682e-02, 3.38751539e-02, 2.19538339e-02,\n",
       "       1.66865126e-02, 2.61613034e-02, 4.30634289e-02, 5.34823743e-02,\n",
       "       1.06265434e-03, 2.50964297e-01, 3.98847335e-02, 2.87491353e-02,\n",
       "       3.24804594e-02, 1.97695286e-02, 9.37828441e-02, 2.84962875e-02,\n",
       "       3.28992075e-02, 3.00005808e-02, 1.00869909e-02, 2.38466637e-02,\n",
       "       2.06753582e-02, 3.77165106e-02, 6.38356322e-02, 1.00662323e-01,\n",
       "       4.57935960e-01, 2.88582621e-02, 3.09037498e-02, 3.88076688e-02,\n",
       "       4.26397362e-02, 9.73051803e-03, 4.98034582e-02, 1.12295449e-01,\n",
       "       8.88304808e-02, 3.17820845e-02, 1.82959722e-02, 1.18729185e-02,\n",
       "       1.02343442e-01, 1.64260553e-02, 4.08500484e-02, 1.88352995e-02,\n",
       "       2.43116896e-02, 2.08801487e-02, 1.77073937e-02, 1.31251043e-02,\n",
       "       3.90672712e-02, 4.89871147e-02, 3.25727235e-02, 2.41168374e-02,\n",
       "       1.58185592e-02, 2.67716370e-02, 4.68675678e-02, 3.30278610e-02,\n",
       "       4.13304370e-02, 3.04170138e-02, 2.37698311e-02, 2.97412635e-02,\n",
       "       4.59796596e-02, 3.23110628e-02, 7.70908138e-02, 4.07402034e-02,\n",
       "       2.59897314e-02, 3.28900095e-02, 1.62292777e-02, 3.58192888e-02,\n",
       "       1.01057279e-01, 3.09286679e-02, 4.00517594e-02, 3.18135294e-02,\n",
       "       3.82464607e-02, 2.40638396e-02, 1.74137180e-02, 1.98833689e-02,\n",
       "       1.65115158e-02, 3.46111729e-02, 1.85819452e-02, 7.10558951e-02,\n",
       "       8.36886106e-02, 3.13044984e-02, 5.33794570e-02, 2.04212504e-02,\n",
       "       2.97593127e-02, 3.84745703e-02, 1.91425484e-02, 1.60528773e-02,\n",
       "       4.52559777e-02, 1.96712447e-02, 3.64165167e-02, 1.32705498e-02,\n",
       "       2.23813977e-02, 2.41041341e-02, 1.84010797e-02, 4.18390828e-02,\n",
       "       1.62085407e-01, 5.56727540e-02, 2.60088032e-01, 2.72087015e-02,\n",
       "       4.73126884e-02, 4.70529353e-02, 2.20876810e-02, 1.28856066e-02,\n",
       "       4.60502524e-02, 1.81673804e-02, 2.05339156e-02, 3.69235166e-02,\n",
       "       2.47740399e-02, 1.54556885e-01, 3.27029155e-02, 2.18263041e-02,\n",
       "       2.33348175e-02, 1.60074708e-02, 3.90788515e-02, 1.01160730e-01,\n",
       "       8.00430462e-03, 1.84566666e-02, 3.32164623e-02, 1.28972774e-02,\n",
       "       1.94564694e-02, 2.77989021e-02, 4.17078065e-02, 2.36740501e-02,\n",
       "       3.36154722e-02, 2.87548744e-02, 2.74046476e-02, 4.00133138e-02,\n",
       "       1.11924322e-01, 5.52572725e-02, 3.21945949e-02, 6.43269924e-02,\n",
       "       6.86666267e-02, 2.56724018e-02, 3.50364018e-02, 1.38635178e-02,\n",
       "       4.07601722e-02, 2.27419378e-02, 3.37955774e-02, 3.05613755e-02,\n",
       "       1.56451827e-02, 1.63613485e-02, 4.50330261e-02, 4.42614107e-02,\n",
       "       1.04638628e-01, 6.93285966e-02, 1.69720696e-02, 6.73214728e-02,\n",
       "       3.84012588e-02, 3.68795834e-02, 2.45959861e-02, 2.68041131e-02,\n",
       "       1.67045049e-01, 2.62830147e-02, 1.94335229e-02, 2.15009986e-02,\n",
       "       1.98110269e-02, 1.66257273e-02, 1.06913604e-01, 3.47742626e-02,\n",
       "       3.49086052e-02, 4.03834189e-03, 2.59446271e-02, 2.18705099e-02,\n",
       "       2.82004977e-02, 2.80449345e-02, 3.72801383e-02, 7.37862989e-02,\n",
       "       2.86778332e-02, 2.20392065e-02, 4.10557165e-02, 8.05561900e-02,\n",
       "       1.59510549e-02, 2.11940175e-02, 4.86082603e-02, 6.25205492e-02,\n",
       "       1.09384089e-01, 9.69404671e-02, 1.81140777e-02, 3.13233699e-02,\n",
       "       1.58802706e-01, 3.38880131e-02, 2.29136910e-02, 2.53843280e-02,\n",
       "       3.92059436e-02, 7.64029782e-02, 2.15883522e-02, 1.55321747e-02,\n",
       "       5.42565273e-02, 1.36314781e-02, 3.08787547e-02, 5.49893471e-02,\n",
       "       2.39323589e-02, 4.01902194e-02, 1.88550258e-02, 1.10792364e-01,\n",
       "       2.30554975e-02, 3.08517585e-02, 4.33543771e-02, 4.16593643e-02,\n",
       "       6.13731032e-02, 3.05752797e-02, 1.41001881e-02, 3.85570232e-02,\n",
       "       2.66597533e-02, 4.48478990e-02, 2.56903258e-02, 1.47438550e-02,\n",
       "       1.85634120e-02, 2.60452897e-02, 3.35787688e-02, 2.00715989e-02,\n",
       "       9.59804863e-02, 5.40738473e-02, 2.33333123e-02, 2.65080470e-02,\n",
       "       4.92831491e-01, 3.53604219e-02, 1.39081387e-02, 6.03183315e-02,\n",
       "       2.52976953e-02, 5.53319602e-02, 3.95944154e-02, 1.41486575e-02,\n",
       "       2.62819846e-02, 5.05290513e-02, 3.92440689e-02, 3.47130095e-02,\n",
       "       1.43560080e-02, 8.68094367e-02, 4.38259718e-02, 1.96050799e-02,\n",
       "       2.84775734e-02, 2.59155483e-02, 4.38346385e-03, 2.95517099e-02,\n",
       "       2.47104607e-01, 1.97637945e-02, 2.31724058e-02, 4.16811845e-02,\n",
       "       1.26374944e-01, 3.14623710e-02, 4.34550793e-02, 2.43867350e-02,\n",
       "       1.84536224e-02, 3.05413008e-02, 2.18852196e-02, 4.51637188e-03,\n",
       "       3.10345966e-02, 2.13131935e-02, 4.49149134e-02, 1.22788201e-01,\n",
       "       2.30888648e-02, 1.68137374e-01, 1.36216900e-02, 2.71533719e-02,\n",
       "       3.10731523e-02, 2.47943239e-01, 2.38786504e-02, 3.50596482e-02,\n",
       "       2.76333656e-02, 3.62089608e-02, 6.22464986e-02, 2.43863343e-02,\n",
       "       1.99098747e-02, 2.34947489e-01, 4.33718898e-02, 1.85708513e-02,\n",
       "       2.94432883e-02, 1.16843542e-02, 2.36483363e-02, 5.80382688e-02,\n",
       "       1.82172210e-01, 3.31399352e-02, 1.33928659e-02, 4.19962434e-02,\n",
       "       3.07651646e-02, 2.78802058e-02, 1.79378643e-02, 2.89595773e-02,\n",
       "       8.22496571e-03, 2.29355264e-02, 6.53324424e-02, 1.41998610e-02,\n",
       "       6.21163460e-02, 8.24164054e-02, 5.24262238e-02, 9.47923099e-03,\n",
       "       1.86841464e-01, 1.71782734e-02, 2.32702309e-02, 4.09026057e-02,\n",
       "       4.90324409e-02, 5.97990483e-02, 1.45235417e-01, 4.29572653e-02,\n",
       "       3.04351960e-02, 5.28852281e-02, 3.51672860e-02, 5.07901079e-02,\n",
       "       1.13800166e-02, 2.36159613e-02, 4.21267229e-02, 3.35518326e-02,\n",
       "       2.17779946e-02, 2.12749042e-02, 1.74144621e-02, 2.02216334e-01,\n",
       "       1.93634678e-01, 3.07201362e-02, 1.09586340e-01, 1.73816106e-02,\n",
       "       4.81451782e-02, 4.61353226e-02, 1.66575588e-02, 2.50611796e-02,\n",
       "       3.75576924e-02, 4.15744779e-02, 2.63035837e-02, 4.62800957e-02,\n",
       "       1.99403661e-02, 1.32201037e-02, 2.86523062e-02, 6.50940735e-02,\n",
       "       3.96312170e-02, 3.35189858e-02, 2.10242595e-02, 8.98786077e-02,\n",
       "       2.42367744e-02, 3.17816576e-02, 1.93629605e-02, 3.99280854e-02,\n",
       "       1.97215342e-02, 2.54293613e-02, 1.45034734e-01, 5.39057775e-02,\n",
       "       1.07796383e-02, 3.06339142e-02, 6.77476098e-02, 3.39449021e-02,\n",
       "       1.69081915e-02, 1.24850392e-02, 2.39755700e-02, 3.63791494e-02,\n",
       "       2.42488036e-02, 2.42833553e-02, 2.03168714e-02, 2.99925164e-02,\n",
       "       5.91304009e-02, 1.45552218e-01, 5.09215239e-02, 2.68492880e-02,\n",
       "       6.90188637e-02, 1.88384496e-01, 4.68172894e-02, 1.23217343e-02,\n",
       "       1.42781098e-01, 4.02890854e-02, 5.97052138e-01, 1.11178769e-01,\n",
       "       3.74151341e-02, 6.78831207e-02, 2.80677495e-02, 9.84447434e-03,\n",
       "       2.91626186e-02, 1.29448114e-02, 6.59451506e-02, 2.09025266e-02,\n",
       "       2.27152157e-02, 6.56859770e-02, 4.60808287e-02, 1.73083589e-02,\n",
       "       6.22912800e-02, 1.35306560e-02, 1.79189502e-01, 4.95500191e-02,\n",
       "       3.50519740e-02, 3.81027759e-02, 2.45896105e-02, 2.69885543e-02,\n",
       "       7.05599903e-02, 3.29966183e-02, 4.79859976e-02, 2.63510637e-02,\n",
       "       2.21330382e-02, 2.59606847e-02, 1.89717529e-02, 3.81073592e-02,\n",
       "       6.41404946e-02, 3.02891784e-02, 7.51085379e-02, 5.45899741e-02,\n",
       "       1.47833803e-02, 2.42899685e-01, 1.67534745e-02, 3.12877151e-02,\n",
       "       3.33424505e-02, 3.57212121e-02, 8.68116087e-02, 7.03832012e-03,\n",
       "       3.32596205e-02, 4.16237718e-02, 7.89900208e-02, 5.27603607e-02,\n",
       "       1.49219826e-02, 1.97020238e-02, 3.22815452e-02, 1.24998720e-02,\n",
       "       4.54109871e-02, 2.93455256e-02, 2.99721737e-02, 4.97692465e-02,\n",
       "       3.88500575e-02, 1.51524889e-02, 6.26430634e-03, 1.91520568e-02,\n",
       "       8.49781361e-03, 7.70418584e-02, 2.13764452e-02, 3.40814615e-02,\n",
       "       7.78123583e-02, 2.75404727e-02, 1.96744641e-02, 1.93331847e-02,\n",
       "       1.79781055e-02, 1.80214291e-02, 5.35887141e-03, 6.33037695e-02,\n",
       "       2.21057960e-02, 6.12084992e-02, 4.36043928e-02, 5.56972521e-02,\n",
       "       4.22106302e-02, 3.41045824e-02, 5.75232115e-02, 3.49277937e-02,\n",
       "       1.46169493e-01, 4.89096338e-02, 2.75106009e-02, 1.46757562e-02,\n",
       "       1.43025983e-02, 4.01423850e-02, 2.60117571e-01, 1.31179626e-02,\n",
       "       6.12719453e-02, 2.17473690e-02, 3.03456787e-02, 2.24462776e-02,\n",
       "       2.18625029e-02, 2.40152538e-02, 1.33399897e-02, 2.51188956e-02,\n",
       "       3.10355966e-02, 5.02707940e-02, 3.74899459e-02, 3.44308824e-03,\n",
       "       3.72031304e-02, 3.75408820e-02, 3.32451861e-02, 2.48869613e-02,\n",
       "       3.75546256e-02, 1.08033105e-02, 3.02083197e-02, 2.43937129e-02,\n",
       "       2.54066443e-02, 6.18886586e-02, 5.17336655e-02, 4.64511246e-02,\n",
       "       2.28929310e-02, 1.36216900e-02, 1.32429380e-02, 3.58682419e-02,\n",
       "       3.51133386e-02, 6.77056826e-02, 3.30472835e-02, 7.99497411e-02,\n",
       "       8.29578457e-02, 4.48032780e-02, 1.61757867e-02, 3.08915459e-02,\n",
       "       1.38209758e-01, 4.28506535e-02, 4.43580353e-02, 8.43557347e-02,\n",
       "       2.57217418e-02, 1.71094170e-02, 2.03952209e-02, 4.79997316e-02,\n",
       "       3.57270210e-02, 2.98443790e-02, 5.76521991e-02, 1.66250364e-02,\n",
       "       4.12984983e-02, 2.27397206e-02, 2.27321166e-01, 3.89864596e-02,\n",
       "       2.67565045e-02, 1.21121162e-01, 5.63014767e-02, 4.55991763e-02,\n",
       "       2.76743224e-02, 4.50784509e-02, 1.74564222e-02, 1.37128503e-02,\n",
       "       1.95915191e-02, 7.16033060e-02, 3.23622850e-02, 1.04679373e-02,\n",
       "       1.55604161e-02, 2.97545608e-02, 4.48411441e-02, 5.10053282e-02,\n",
       "       3.21841830e-02, 3.31258195e-02, 4.03283811e-02, 3.96976965e-02,\n",
       "       3.24697688e-02, 3.57465507e-02, 2.02347689e-02, 1.81134272e-02,\n",
       "       2.27242234e-02, 3.42162994e-02, 3.61841253e-02, 3.11928521e-02,\n",
       "       2.10949705e-02, 4.84328714e-02, 9.28459090e-02, 1.29940723e-02,\n",
       "       4.52157194e-02, 1.21030368e-02, 1.95731848e-02, 1.12759159e-02,\n",
       "       2.88845660e-02, 2.49884698e-02, 2.56279760e-02, 2.47844326e-01,\n",
       "       2.32589277e-01, 4.21092508e-02, 1.02269699e-02, 1.83150580e-02,\n",
       "       2.63123204e-02, 2.84115307e-02, 4.15030017e-02, 7.06660265e-02,\n",
       "       1.30172835e-02, 2.64481895e-02, 2.65358649e-02, 2.50972971e-02,\n",
       "       2.04931522e-02, 4.13642821e-02, 6.38194071e-02, 6.37238694e-02,\n",
       "       6.28323317e-03, 5.65204922e-02, 2.26221759e-01, 3.56578686e-02,\n",
       "       1.05907732e-01, 1.11447377e-02, 2.57482090e-02, 2.80712076e-02,\n",
       "       2.88581516e-02, 2.00688652e-01, 1.85322389e-02, 5.23489682e-02,\n",
       "       3.92982780e-02, 3.55989059e-02, 2.33432618e-02, 3.12721951e-02,\n",
       "       1.95780172e-02, 2.97530684e-02, 2.01075538e-02, 3.49315383e-02,\n",
       "       3.31825426e-02, 1.83304645e-02, 2.10633876e-02, 6.58977661e-02,\n",
       "       2.13284689e-02, 4.31877264e-02, 3.92160564e-02, 5.10581950e-02,\n",
       "       1.72209215e-02, 8.80017936e-03, 6.38898725e-02, 1.11772271e-01,\n",
       "       2.96654266e-02, 5.19636622e-02, 3.48607485e-02, 3.34908519e-02,\n",
       "       2.38871987e-02, 3.12926867e-02, 5.94912860e-03, 6.18374853e-02,\n",
       "       2.29509099e-02, 6.88215858e-02, 3.78413390e-02, 6.65848043e-03,\n",
       "       3.43468591e-02, 2.71667204e-01, 2.48028013e-02, 5.85339134e-02,\n",
       "       2.84960128e-02, 8.44098709e-02, 7.69863940e-02, 2.87920624e-02,\n",
       "       2.80283577e-02, 8.39436359e-02, 2.54596380e-02, 2.38578121e-02,\n",
       "       2.87925994e-02, 1.51087942e-01, 2.58515976e-02, 3.18047774e-02,\n",
       "       5.57802307e-02, 8.40788471e-03, 3.36430592e-02, 1.72314373e-02,\n",
       "       3.65444047e-02, 4.48515981e-02, 8.44647985e-02, 4.17405401e-02,\n",
       "       2.05924880e-01, 3.22800597e-02, 8.76548820e-02, 4.85134886e-02,\n",
       "       2.22724880e-02, 3.37188507e-02, 4.83690261e-02, 1.99062975e-02,\n",
       "       5.21284204e-02, 5.78578121e-02, 4.50955224e-02, 3.46896147e-02,\n",
       "       5.76401998e-02, 2.14742705e-02, 1.45377913e-02, 3.60845202e-02,\n",
       "       1.98340801e-02, 2.10933659e-02, 5.57815315e-02, 3.36406918e-02,\n",
       "       2.47404498e-02, 3.98847088e-02, 3.49269138e-01, 2.46370815e-02,\n",
       "       9.67063474e-02, 2.11266939e-02, 3.91875596e-01, 3.11707486e-01,\n",
       "       3.69752164e-02, 1.77745321e-02, 2.37516570e-02, 4.50452611e-02,\n",
       "       7.20337632e-02, 3.53721263e-02, 4.75200448e-02, 3.48591528e-02,\n",
       "       3.20938254e-02, 2.77762923e-01, 1.89864800e-02, 4.13690805e-02,\n",
       "       3.55309877e-02, 3.25012030e-02, 1.74545728e-01, 1.75687552e-02,\n",
       "       1.97020238e-02, 2.02809424e-02, 3.65396525e-02, 3.73408415e-02,\n",
       "       7.36884626e-02, 2.96277207e-02, 1.83106629e-02, 2.47045906e-02,\n",
       "       1.72353663e-02, 1.50572243e-02, 2.33640605e-01, 2.42698759e-02,\n",
       "       3.59028757e-02, 4.80274033e-02, 1.89905470e-02, 1.98886915e-02,\n",
       "       2.94669169e-01, 4.42826677e-02, 1.18087965e-01, 3.01141270e-02,\n",
       "       1.71885405e-02, 1.33017418e-02, 3.09246575e-02, 1.08083802e-02,\n",
       "       2.76904582e-02, 4.72236685e-02, 5.70002909e-02, 2.47710301e-02,\n",
       "       2.08886722e-02, 2.75311210e-02, 1.45977543e-02, 3.08472405e-02,\n",
       "       4.79690648e-02, 5.89275526e-02, 1.97541320e-02, 1.45878029e-02,\n",
       "       5.04472498e-02, 3.97298149e-02, 3.15528751e-02, 3.08535983e-02,\n",
       "       7.87779879e-01, 8.86890274e-02, 1.11409155e-01, 2.46139293e-02,\n",
       "       2.03721565e-02, 8.52079687e-02, 3.56102565e-02, 3.27555085e-02,\n",
       "       6.32601223e-02, 4.23202740e-02, 3.54585933e-02, 3.04677344e-02,\n",
       "       3.78154463e-02, 2.42882272e-02, 2.68752832e-02, 5.92985589e-02,\n",
       "       5.04061867e-02, 3.69646806e-02, 3.26370746e-02, 2.79797599e-02,\n",
       "       1.66712277e-02, 2.21891570e-02, 1.42008288e-02, 4.80458367e-02,\n",
       "       2.41937845e-02, 2.85512650e-02, 2.18969458e-01, 4.15178018e-02,\n",
       "       1.83991387e-02, 3.27384840e-02, 3.32199221e-02, 8.14936372e-02,\n",
       "       5.04292713e-01, 1.15508545e-01, 3.06501041e-02, 5.78035088e-02,\n",
       "       3.54475045e-02, 1.04561900e-01, 1.47958614e-02, 8.43844448e-02,\n",
       "       5.77960270e-02, 5.82045214e-02, 3.54488101e-02, 2.58412223e-02,\n",
       "       2.07144675e-02, 5.20775369e-04, 4.72188810e-02, 3.22416666e-02,\n",
       "       2.20617632e-02, 2.61229881e-02, 1.04826725e-02, 5.71198103e-02,\n",
       "       2.44578140e-02, 3.99696459e-01, 4.10610840e-03, 3.54897873e-02,\n",
       "       9.41274875e-01, 4.64424161e-02, 3.54526220e-02, 4.57531050e-02,\n",
       "       2.80341553e-02, 3.92189862e-02, 1.06566873e-02, 1.28618277e-02,\n",
       "       3.70016193e-02, 3.91530154e-02, 2.09488605e-02, 8.82178085e-02,\n",
       "       4.10610840e-03, 2.85962532e-02, 5.43918020e-02, 3.97485483e-02,\n",
       "       3.92935078e-02, 0.00000000e+00, 5.03852206e-02, 3.07019474e-02,\n",
       "       3.22623311e-02, 2.57232364e-02, 5.05749090e-02, 7.02668266e-02,\n",
       "       1.10136238e-02, 1.24956891e-02, 2.25294510e-02, 1.23341925e-01,\n",
       "       1.55544588e-02, 1.87736252e-02, 1.00000000e+00, 3.63143766e-02,\n",
       "       4.39671218e-01, 4.32211023e-02, 3.66371880e-02, 4.81737111e-02,\n",
       "       3.80749876e-01, 3.48455163e-03, 6.03610390e-02, 8.01071661e-02,\n",
       "       1.75433996e-01, 7.53951855e-02, 1.37976116e-02, 1.25552780e-02,\n",
       "       6.81278916e-02, 7.19286500e-03, 4.86277779e-01, 2.70316743e-02,\n",
       "       1.84703151e-02, 2.42500161e-02, 3.06378123e-01, 4.84002486e-02,\n",
       "       1.14948372e-01, 1.52625538e-02, 5.66704935e-03, 4.69671639e-02,\n",
       "       9.89845734e-03, 2.73620176e-02, 2.86073051e-02, 1.73245804e-02,\n",
       "       2.51419213e-02, 4.94214324e-02, 5.20568041e-02, 1.54754549e-01,\n",
       "       3.01486327e-02, 3.39144650e-02, 2.91736122e-02, 3.59964216e-02,\n",
       "       1.53855431e-02, 4.68840855e-02, 2.32755125e-02, 2.66455018e-02])"
      ]
     },
     "execution_count": 16,
     "metadata": {},
     "output_type": "execute_result"
    }
   ],
   "source": [
    "radius"
   ]
  },
  {
   "cell_type": "code",
   "execution_count": 14,
   "metadata": {
    "colab": {
     "base_uri": "https://localhost:8080/"
    },
    "executionInfo": {
     "elapsed": 3,
     "status": "ok",
     "timestamp": 1678271635715,
     "user": {
      "displayName": "안건이",
      "userId": "00323974519415085515"
     },
     "user_tz": -540
    },
    "id": "WuVzvJd9yNA5",
    "outputId": "326c2d96-f86d-49e2-be09-796ccc2d548e"
   },
   "outputs": [
    {
     "data": {
      "text/plain": [
       "array([-1.0050688 , -1.05786624, -1.11808499, -0.98729683, -0.99181155,\n",
       "       -1.03831934, -0.9811939 , -0.99292067, -0.99215075, -1.01125733,\n",
       "       -0.99555029, -0.96645945, -0.97778024, -1.04692086, -1.53716491,\n",
       "       -0.99918152, -1.03827509, -0.99521428, -1.11295384, -0.98974124,\n",
       "       -1.00787845, -1.25718389, -0.99121276, -1.00752407, -1.42462937,\n",
       "       -0.99900806, -0.98571685, -1.06240934, -1.00354231, -1.26336075,\n",
       "       -0.99358372, -1.00335918, -0.98789111, -0.97743369, -0.98833844,\n",
       "       -1.01076773, -1.03141071, -0.99912984, -1.01089601, -1.36626525,\n",
       "       -1.01610753, -0.9614624 , -1.03398591, -1.01256089, -1.00567815,\n",
       "       -0.99165718, -0.99341308, -1.0830446 , -0.98772434, -1.00059735,\n",
       "       -1.00507747, -1.03673634, -1.10730665, -1.03673453, -1.03054517,\n",
       "       -0.9885831 , -1.05476868, -1.03571554, -1.04742405, -1.02632855,\n",
       "       -1.18475142, -1.01854699, -1.528342  , -0.99507125, -0.9914553 ,\n",
       "       -1.05078837, -1.30608516, -0.97903145, -1.11375833, -1.06891888,\n",
       "       -0.97029544, -1.00111633, -1.03958158, -1.11085275, -1.55596102,\n",
       "       -1.00236223, -1.03413995, -1.00001834, -1.59273331, -0.99632879,\n",
       "       -0.97752558, -1.45069932, -1.00962433, -0.97295713, -1.11793811,\n",
       "       -1.9050991 , -0.99344876, -1.10568913, -0.96410577, -1.01692343,\n",
       "       -1.02565746, -1.05991696, -0.95345359, -1.39416058, -1.00205193,\n",
       "       -0.9626498 , -0.98880429, -1.00087648, -0.97741601, -1.004288  ,\n",
       "       -0.99498296, -1.00086662, -1.01839634, -1.00215358, -1.02364349,\n",
       "       -0.97245889, -0.96094994, -0.97761646, -1.01489079, -1.0182534 ,\n",
       "       -0.98547635, -1.0757858 , -1.06025352, -1.00351599, -0.95357755,\n",
       "       -1.1288595 , -1.13303047, -1.10020488, -1.05113717, -1.59298904,\n",
       "       -0.99519997, -2.51888407, -1.04431439, -1.02924232, -0.97231136,\n",
       "       -0.97338191, -1.01510279, -1.71933839, -1.09497389, -1.03052605,\n",
       "       -0.98273447, -0.98081228, -1.05905125, -1.01308516, -1.78886436,\n",
       "       -0.96638837, -0.99706761, -1.15370069, -0.99280271, -1.01974408,\n",
       "       -1.6092487 , -0.96232627, -1.00924141, -1.00188553, -1.37202109,\n",
       "       -1.00344614, -0.98820749, -1.03853966, -1.11652705, -1.08623286,\n",
       "       -1.00045767, -1.19496462, -1.05590943, -1.01655896, -1.02479304,\n",
       "       -1.03518232, -1.02204707, -2.36631886, -0.99611492, -1.14996319,\n",
       "       -1.01223098, -1.11331586, -1.05968874, -1.01001103, -0.97017111,\n",
       "       -1.00588992, -1.03364292, -0.96867668, -0.9683481 , -1.01060497,\n",
       "       -0.98523731, -1.0641203 , -0.99995121, -0.97388598, -1.02275871,\n",
       "       -0.99369228, -0.98084955, -1.00395088, -1.04516146, -1.07056481,\n",
       "       -0.94275563, -1.55206304, -1.0374112 , -1.0102605 , -1.01935818,\n",
       "       -0.98836653, -1.16882497, -1.00964401, -1.02037916, -1.01331176,\n",
       "       -0.96475867, -0.99830735, -0.99057511, -1.03212466, -1.09580801,\n",
       "       -1.18559844, -2.05669905, -1.01052658, -1.01551386, -1.03478511,\n",
       "       -1.04412841, -0.96388952, -1.06159492, -1.2139622 , -1.15675017,\n",
       "       -1.01765541, -0.98477372, -0.9691131 , -1.18969732, -0.98021451,\n",
       "       -1.03976482, -0.9860887 , -0.99944117, -0.99107443, -0.98333865,\n",
       "       -0.97216616, -1.03541807, -1.05960452, -1.01958313, -0.99896609,\n",
       "       -0.97873332, -1.00543899, -1.05443666, -1.02069285, -1.04093609,\n",
       "       -1.01432711, -0.99812002, -1.0126795 , -1.05227178, -1.01894516,\n",
       "       -1.12812665, -1.03949699, -1.00353256, -1.02035674, -0.97973473,\n",
       "       -1.02749887, -1.18656142, -1.01557462, -1.03781844, -1.01773208,\n",
       "       -1.03341678, -0.99883687, -0.98262262, -0.98864409, -0.98042288,\n",
       "       -1.02455326, -0.98547097, -1.11341238, -1.14421332, -1.01649096,\n",
       "       -1.07031388, -0.98995555, -1.01272351, -1.03397295, -0.98683783,\n",
       "       -0.97930463, -1.0505073 , -0.98812689, -1.02895503, -0.97252079,\n",
       "       -0.99473476, -0.99893511, -0.98502999, -1.04217627, -1.33535952,\n",
       "       -1.07590537, -1.57430843, -1.00650464, -1.05552195, -1.05488863,\n",
       "       -0.99401862, -0.97158222, -1.05244389, -0.98446019, -0.99023025,\n",
       "       -1.03019119, -1.00056847, -1.31700356, -1.01990057, -0.99338133,\n",
       "       -0.99705937, -0.97919392, -1.0354463 , -1.18681365, -0.95968069,\n",
       "       -0.98516552, -1.02115269, -0.97161068, -0.98760323, -1.00794366,\n",
       "       -1.04185619, -0.99788649, -1.02212555, -1.0102745 , -1.00698239,\n",
       "       -1.0377247 , -1.21305732, -1.07489235, -1.01866119, -1.09700604,\n",
       "       -1.10758689, -1.00275885, -1.02559005, -0.97396656, -1.03954568,\n",
       "       -0.99561382, -1.02256468, -1.01467909, -0.97831059, -0.98005674,\n",
       "       -1.04996371, -1.04808236, -1.19529342, -1.10920089, -0.98154579,\n",
       "       -1.10430715, -1.0337942 , -1.03008407, -1.00013434, -1.00551817,\n",
       "       -1.34745206, -1.00424764, -0.98754728, -0.99258818, -0.98846771,\n",
       "       -0.98070135, -1.20084024, -1.0249509 , -1.02527845, -0.95001092,\n",
       "       -1.00342258, -0.99348912, -1.00892282, -1.00854353, -1.0310607 ,\n",
       "       -1.12006962, -1.01008666, -0.99390043, -1.04026627, -1.13657589,\n",
       "       -0.97905637, -0.9918397 , -1.0586808 , -1.09260159, -1.20686375,\n",
       "       -1.17652385, -0.98433022, -1.01653697, -1.32735567, -1.02279006,\n",
       "       -0.99603259, -1.00205647, -1.03575618, -1.12644957, -0.99280116,\n",
       "       -0.97803506, -1.07245234, -0.9734008 , -1.01545292, -1.0742391 ,\n",
       "       -0.99851629, -1.03815603, -0.9861368 , -1.21029739, -0.99637834,\n",
       "       -1.0153871 , -1.04587084, -1.04173808, -1.0898039 , -1.01471299,\n",
       "       -0.9745436 , -1.03417399, -1.0051662 , -1.04951233, -1.00280255,\n",
       "       -0.97611298, -0.98542579, -1.00366802, -1.02203606, -0.98910303,\n",
       "       -1.17418324, -1.07200693, -0.9970557 , -1.00479631, -2.14178094,\n",
       "       -1.02638007, -0.97407535, -1.08723217, -1.00184524, -1.07507445,\n",
       "       -1.03670334, -0.97466178, -1.00424512, -1.06336405, -1.03584913,\n",
       "       -1.02480156, -0.97516734, -1.15182248, -1.04702068, -0.98796557,\n",
       "       -1.00959838, -1.00335168, -0.95085239, -1.01221733, -1.54265239,\n",
       "       -0.98835255, -0.99666338, -1.04179128, -1.24829066, -1.01687588,\n",
       "       -1.04611637, -0.99962415, -0.9851581 , -1.01463014, -0.99352498,\n",
       "       -0.95117645, -1.01583289, -0.99213027, -1.04967572, -1.23954551,\n",
       "       -0.9964597 , -1.35011536, -0.97337693, -1.00636973, -1.0159269 ,\n",
       "       -1.54469713, -0.99838534, -1.02564673, -1.00754005, -1.02844897,\n",
       "       -1.0919334 , -0.99962317, -0.98870872, -1.51301104, -1.04591354,\n",
       "       -0.98544392, -1.01195298, -0.96865334, -0.99782379, -1.08167294,\n",
       "       -1.38433494, -1.0209661 , -0.97281902, -1.04255946, -1.01517596,\n",
       "       -1.00814189, -0.98390058, -1.0107736 , -0.9602187 , -0.99608583,\n",
       "       -1.09945752, -0.97478662, -1.09161607, -1.14111144, -1.06798972,\n",
       "       -0.96327684, -1.39571946, -0.98204856, -0.9969019 , -1.03989296,\n",
       "       -1.05971503, -1.08596606, -1.29427606, -1.04490261, -1.01437144,\n",
       "       -1.06910886, -1.02590917, -1.06400056, -0.96791131, -0.99774486,\n",
       "       -1.04287759, -1.02197039, -0.99326355, -0.99203692, -0.98262443,\n",
       "       -1.4332063 , -1.4122826 , -1.01506618, -1.20735688, -0.98254433,\n",
       "       -1.05755172, -1.05265131, -0.98077896, -1.00126857, -1.03173743,\n",
       "       -1.04153111, -1.00429779, -1.0530043 , -0.98878306, -0.97239779,\n",
       "       -1.01002442, -1.09887633, -1.03679307, -1.0218903 , -0.9914258 ,\n",
       "       -1.1593057 , -0.99925852, -1.01765437, -0.98737524, -1.0375169 ,\n",
       "       -0.98824951, -1.00216627, -1.29378676, -1.07159715, -0.96644748,\n",
       "       -1.01485595, -1.10534615, -1.02292876, -0.98139005, -0.97060557,\n",
       "       -0.99862165, -1.02886392, -0.99928784, -0.99937209, -0.98970105,\n",
       "       -1.0132921 , -1.08433577, -1.29504848, -1.06432097, -1.00562832,\n",
       "       -1.10844571, -1.39948166, -1.05431408, -0.9702074 , -1.28829197,\n",
       "       -1.03839708, -2.39589057, -1.21123952, -1.03138985, -1.10567655,\n",
       "       -1.00859916, -0.96416737, -1.01126865, -0.97172658, -1.10095141,\n",
       "       -0.99112899, -0.99554867, -1.1003195 , -1.05251845, -0.98236573,\n",
       "       -1.09204259, -0.97315498, -1.37706253, -1.06097699, -1.02562801,\n",
       "       -1.03306645, -1.0001188 , -1.00596787, -1.11220327, -1.02061667,\n",
       "       -1.05716361, -1.00441355, -0.99412921, -1.00346173, -0.9864214 ,\n",
       "       -1.03307762, -1.09655132, -1.01401542, -1.12329348, -1.07326535,\n",
       "       -0.97620936, -1.53239999, -0.98101282, -1.01645004, -1.02145987,\n",
       "       -1.02725974, -1.15182778, -0.95732544, -1.02125792, -1.0416513 ,\n",
       "       -1.13275727, -1.06880441, -0.97654729, -0.98820194, -1.01887319,\n",
       "       -0.97064173, -1.05088525, -1.01171462, -1.0132425 , -1.06151151,\n",
       "       -1.03488846, -0.97710931, -0.95543824, -0.98686101, -0.96088396,\n",
       "       -1.12800728, -0.99228449, -1.02326172, -1.12988591, -1.00731356,\n",
       "       -0.98813474, -0.98730264, -0.9839987 , -0.98410433, -0.95323062,\n",
       "       -1.09451123, -0.99406279, -1.08940256, -1.04648043, -1.0759651 ,\n",
       "       -1.04308217, -1.0233181 , -1.08041714, -1.02532524, -1.29655351,\n",
       "       -1.05941561, -1.00724072, -0.97594695, -0.97503712, -1.0380394 ,\n",
       "       -1.57438045, -0.97214875, -1.08955726, -0.99318887, -1.01415318,\n",
       "       -0.99489295, -0.99346959, -0.99871841, -0.9726901 , -1.00140929,\n",
       "       -1.01583533, -1.06273437, -1.03157225, -0.94855958, -1.03087294,\n",
       "       -1.03169644, -1.02122272, -1.00084379, -1.03172995, -0.96650519,\n",
       "       -1.01381827, -0.99964116, -1.00211088, -1.09106092, -1.06630113,\n",
       "       -1.0534213 , -0.99598197, -0.97337693, -0.97245347, -1.02761823,\n",
       "       -1.02577763, -1.10524392, -1.0207402 , -1.13509725, -1.14243158,\n",
       "       -1.04940354, -0.9796043 , -1.01548411, -1.27714618, -1.04464267,\n",
       "       -1.04831795, -1.1458399 , -1.00287915, -0.98188067, -0.98989208,\n",
       "       -1.05719709, -1.02727391, -1.01293091, -1.08073163, -0.98069966,\n",
       "       -1.04085822, -0.99560842, -1.49441662, -1.03522103, -1.00540209,\n",
       "       -1.23548095, -1.07743832, -1.05134409, -1.00763991, -1.05007446,\n",
       "       -0.98272674, -0.9735992 , -0.98793251, -1.11474707, -1.01907005,\n",
       "       -0.96568749, -0.97810392, -1.01271192, -1.04949586, -1.06452531,\n",
       "       -1.0186358 , -1.02093169, -1.03849289, -1.03695516, -1.01933211,\n",
       "       -1.02732152, -0.98950087, -0.98432864, -0.99557063, -1.02359048,\n",
       "       -1.02838841, -1.01621875, -0.9915982 , -1.05825317, -1.16654054,\n",
       "       -0.97184668, -1.05040915, -0.96967417, -0.9878878 , -0.96765749,\n",
       "       -1.01059071, -1.00109129, -1.00265053, -1.54445596, -1.50726127,\n",
       "       -1.04283499, -0.96509997, -0.98482025, -1.00431909, -1.00943736,\n",
       "       -1.04135684, -1.1124618 , -0.97190328, -1.00465036, -1.00486413,\n",
       "       -1.00135663, -0.99013086, -1.04101861, -1.09576845, -1.09553551,\n",
       "       -0.95548439, -1.07797232, -1.49173606, -1.0271053 , -1.19838774,\n",
       "       -0.96733766, -1.00294368, -1.00860759, -1.01052631, -1.42948152,\n",
       "       -0.98534978, -1.06780135, -1.03598131, -1.02696154, -0.99707996,\n",
       "       -1.0164122 , -0.98789959, -1.01270828, -0.9891907 , -1.02533437,\n",
       "       -1.02106999, -0.98485782, -0.9915212 , -1.10083588, -0.99216752,\n",
       "       -1.04546452, -1.03578083, -1.0646542 , -0.98215254, -0.96162118,\n",
       "       -1.09594026, -1.21268659, -1.01249459, -1.06686191, -1.02516177,\n",
       "       -1.0218217 , -0.99840618, -1.01646216, -0.95466978, -1.09093615,\n",
       "       -0.99612334, -1.10796471, -1.03242901, -0.95639931, -1.02390881,\n",
       "       -1.60254064, -1.0006386 , -1.08288142, -1.00964334, -1.14597189,\n",
       "       -1.12787205, -1.01036517, -1.00850311, -1.14483512, -1.00224009,\n",
       "       -0.99833453, -1.01036648, -1.30854562, -1.00319576, -1.01771074,\n",
       "       -1.07616742, -0.96066469, -1.02219281, -0.98217818, -1.02926684,\n",
       "       -1.04952135, -1.14610581, -1.041936  , -1.44224843, -1.01886956,\n",
       "       -1.15388384, -1.05844973, -0.99446921, -1.02237761, -1.0580975 ,\n",
       "       -0.9887    , -1.06726362, -1.08123296, -1.05011608, -1.02474451,\n",
       "       -1.08070238, -0.99252301, -0.97561056, -1.02814556, -0.98852392,\n",
       "       -0.99159429, -1.07617059, -1.02218704, -1.00048657, -1.03741114,\n",
       "       -1.79174881, -1.00023454, -1.17595302, -0.99167555, -1.8956314 ,\n",
       "       -1.70016641, -1.03031724, -0.98350235, -0.99807571, -1.04999354,\n",
       "       -1.1157966 , -1.02640861, -1.05602753, -1.02515788, -1.01841549,\n",
       "       -1.61740315, -0.98645731, -1.04103031, -1.02679594, -1.01940875,\n",
       "       -1.36574013, -0.98300063, -0.98820194, -0.98961345, -1.02925526,\n",
       "       -1.03120871, -1.11983107, -1.01240266, -0.98480954, -1.00039914,\n",
       "       -0.98218776, -0.97687704, -1.50982461, -0.99933922, -1.02770267,\n",
       "       -1.05726456, -0.98646722, -0.98865707, -1.65862377, -1.04813419,\n",
       "       -1.22808545, -1.01358861, -0.98207359, -0.97259684, -1.01556484,\n",
       "       -0.96651755, -1.00767925, -1.05530491, -1.07914216, -1.00056113,\n",
       "       -0.99109521, -1.00729075, -0.97575676, -1.01537608, -1.05712232,\n",
       "       -1.08384119, -0.98832899, -0.9757325 , -1.06316461, -1.03703347,\n",
       "       -1.01709655, -1.01539158, -2.86092082, -1.15640528, -1.21180124,\n",
       "       -1.00017809, -0.98983585, -1.1479178 , -1.02698921, -1.0200288 ,\n",
       "       -1.09440481, -1.0433495 , -1.02661943, -1.01445077, -1.03236588,\n",
       "       -0.99938397, -1.0056917 , -1.08474577, -1.06306449, -1.03029155,\n",
       "       -1.01974003, -1.00838462, -0.98081228, -0.99426604, -0.97478898,\n",
       "       -1.05730951, -0.9991537 , -1.00977806, -1.47405358, -1.04139292,\n",
       "       -0.98502526, -1.01998729, -1.02116113, -1.13886156, -2.16972557,\n",
       "       -1.22179633, -1.01489542, -1.08110055, -1.02659239, -1.19510634,\n",
       "       -0.97623979, -1.1459099 , -1.08108231, -1.0820783 , -1.02659558,\n",
       "       -1.00317046, -0.99067047, -0.94143443, -1.05529323, -1.01877595,\n",
       "       -0.99395543, -1.00385746, -0.96572342, -1.07943357, -0.99979745,\n",
       "       -1.91470014, -0.95017615, -1.02669549, -3.23517061, -1.05340006,\n",
       "       -1.02660487, -1.05171939, -1.00851725, -1.03578798, -0.9661477 ,\n",
       "       -0.97152425, -1.03038162, -1.03562713, -0.99124196, -1.15525636,\n",
       "       -0.95017615, -1.00988775, -1.07278217, -1.03707915, -1.03596968,\n",
       "       -0.94016468, -1.06301337, -1.01502183, -1.01882634, -1.00288279,\n",
       "       -1.06347586, -1.11148848, -0.96701798, -0.97063153, -0.99509574,\n",
       "       -1.24089559, -0.97808939, -0.98593833, -3.37835356, -1.02870599,\n",
       "       -2.01216616, -1.04554589, -1.02949307, -1.05762129, -1.8685048 ,\n",
       "       -0.94866068, -1.0873363 , -1.13548108, -1.3679059 , -1.12399238,\n",
       "       -0.97380587, -0.97077682, -1.10627335, -0.95770225, -2.12580176,\n",
       "       -1.00607301, -0.9851988 , -0.9992908 , -1.68717241, -1.05817363,\n",
       "       -1.22043052, -0.97737767, -0.95398202, -1.0546795 , -0.96429899,\n",
       "       -1.00687845, -1.00991469, -0.98240528, -1.00146543, -1.06066347,\n",
       "       -1.067089  , -1.3174855 , -1.01367274, -1.02285455, -1.01129546,\n",
       "       -1.02793076, -0.97767754, -1.05447694, -0.99691478, -1.00513145])"
      ]
     },
     "execution_count": 14,
     "metadata": {},
     "output_type": "execute_result"
    }
   ],
   "source": [
    "X_scores"
   ]
  },
  {
   "cell_type": "code",
   "execution_count": null,
   "metadata": {
    "colab": {
     "base_uri": "https://localhost:8080/",
     "height": 513
    },
    "executionInfo": {
     "elapsed": 867,
     "status": "ok",
     "timestamp": 1678016906099,
     "user": {
      "displayName": "안건이",
      "userId": "00323974519415085515"
     },
     "user_tz": -540
    },
    "id": "8jWKNeLulsMu",
    "outputId": "6f3c9381-3dae-4b20-9be2-92642f31a69d"
   },
   "outputs": [
    {
     "data": {
      "image/png": "[encoded data removed]",
      "text/plain": [
       "<Figure size 936x576 with 1 Axes>"
      ]
     },
     "metadata": {
      "needs_background": "light"
     },
     "output_type": "display_data"
    }
   ],
   "source": [
    "plt.figure(figsize=(13,8))\n",
    "plt.title(\"Local Outlier Factor (LOF)\")\n",
    "plt.scatter(df.iloc[:, 0], df.iloc[:, 1], color=\"k\", s=3.0, label=\"Data points\")\n",
    "# plot circles with radius proportional to the outlier scores\n",
    "radius = (X_scores.max() - X_scores) / (X_scores.max() - X_scores.min()) # MinMax Scale\n",
    "plt.scatter(\n",
    "    df.iloc[:, 0],\n",
    "    df.iloc[:, 1],\n",
    "    s=1000 * radius,\n",
    "    edgecolors=\"r\",\n",
    "    facecolors=\"none\",\n",
    "    label=\"Outlier scores\",\n",
    ")\n",
    "plt.axis(\"tight\")\n",
    "plt.xlim((-10, 10))\n",
    "plt.ylim((-10, 10))\n",
    "plt.xlabel(\"prediction errors: %d\" % (n_errors))\n",
    "legend = plt.legend(loc=\"upper left\")\n",
    "legend.legendHandles[0]._sizes = [10]\n",
    "legend.legendHandles[1]._sizes = [20]\n",
    "plt.show()"
   ]
  },
  {
   "cell_type": "code",
   "execution_count": 17,
   "metadata": {
    "colab": {
     "base_uri": "https://localhost:8080/",
     "height": 513
    },
    "executionInfo": {
     "elapsed": 7316,
     "status": "ok",
     "timestamp": 1678271936048,
     "user": {
      "displayName": "안건이",
      "userId": "00323974519415085515"
     },
     "user_tz": -540
    },
    "id": "HQoKmO8MmrST",
    "outputId": "8e76822f-8d8e-495d-9dc0-7a9b2b16f916"
   },
   "outputs": [
    {
     "data": {
      "image/png": "[encoded data removed]",
      "text/plain": [
       "<Figure size 936x576 with 1 Axes>"
      ]
     },
     "metadata": {
      "needs_background": "light"
     },
     "output_type": "display_data"
    }
   ],
   "source": [
    "plt.figure(figsize=(13,8))\n",
    "plt.title(\"Local Outlier Factor (LOF)\")\n",
    "plt.scatter(df.iloc[:, 0], df.iloc[:, 1], color=\"k\", s=3.0, label=\"Data points\")\n",
    "# plot circles with radius proportional to the outlier scores\n",
    "radius = (X_scores.max() - X_scores) / (X_scores.max() - X_scores.min()) # MinMax Scale\n",
    "\n",
    "for i in range(df.shape[0]):\n",
    "    if radius[i] >= np.percentile(radius, 95):\n",
    "            plt.scatter(\n",
    "            df.iloc[i, 0],\n",
    "            df.iloc[i, 1],\n",
    "            s=1000 * radius[i],\n",
    "            edgecolors=\"r\",\n",
    "            facecolors=\"none\",\n",
    "            #label=\"Outlier scores\",\n",
    "        )\n",
    "    elif radius[i] < np.percentile(radius, 95):\n",
    "            plt.scatter(\n",
    "            df.iloc[i, 0],\n",
    "            df.iloc[i, 1],\n",
    "            s=1000 * radius[i],\n",
    "            edgecolors=\"b\",\n",
    "            facecolors=\"none\",\n",
    "            #label=\"Outlier scores\",\n",
    "        )\n",
    "\n",
    "plt.axis(\"tight\")\n",
    "plt.xlim((-10, 10))\n",
    "plt.ylim((-10, 10))\n",
    "plt.xlabel(\"prediction errors: %d\" % (n_errors))\n",
    "legend = plt.legend(loc=\"upper left\")\n",
    "#legend.legendHandles[0]._sizes = [10]\n",
    "#legend.legendHandles[1]._sizes = [20]\n",
    "plt.show()"
   ]
  },
  {
   "cell_type": "code",
   "execution_count": null,
   "metadata": {
    "colab": {
     "base_uri": "https://localhost:8080/",
     "height": 513
    },
    "executionInfo": {
     "elapsed": 9219,
     "status": "ok",
     "timestamp": 1678022495283,
     "user": {
      "displayName": "안건이",
      "userId": "00323974519415085515"
     },
     "user_tz": -540
    },
    "id": "nIJGYRGk7tMt",
    "outputId": "7208701c-0c32-41c4-e91f-b12833b8b910"
   },
   "outputs": [
    {
     "data": {
      "image/png": "[encoded data removed]",
      "text/plain": [
       "<Figure size 936x576 with 1 Axes>"
      ]
     },
     "metadata": {
      "needs_background": "light"
     },
     "output_type": "display_data"
    }
   ],
   "source": [
    "plt.figure(figsize=(13,8))\n",
    "plt.title(\"Local Outlier Factor (LOF)\")\n",
    "plt.scatter(df.iloc[:, 0], df.iloc[:, 1], color=\"k\", s=3.0, label=\"Data points\")\n",
    "# plot circles with radius proportional to the outlier scores\n",
    "radius = (X_scores.max() - X_scores) / (X_scores.max() - X_scores.min()) # MinMax Scale\n",
    "\n",
    "for i in range(df.shape[0]):\n",
    "    if y_pred[i] == 1:\n",
    "            plt.scatter(\n",
    "            df.iloc[i, 0],\n",
    "            df.iloc[i, 1],\n",
    "            s=1000 * radius[i],\n",
    "            edgecolors=\"r\",\n",
    "            facecolors=\"none\",\n",
    "            #label=\"Outlier scores\",\n",
    "        )\n",
    "    elif y_pred[i] == 0:\n",
    "            plt.scatter(\n",
    "            df.iloc[i, 0],\n",
    "            df.iloc[i, 1],\n",
    "            s=1000 * radius[i],\n",
    "            edgecolors=\"b\",\n",
    "            facecolors=\"none\",\n",
    "            #label=\"Outlier scores\",\n",
    "        )\n",
    "\n",
    "plt.axis(\"tight\")\n",
    "plt.xlim((-10, 10))\n",
    "plt.ylim((-10, 10))\n",
    "plt.xlabel(\"prediction errors: %d\" % (n_errors))\n",
    "legend = plt.legend(loc=\"upper left\")\n",
    "#legend.legendHandles[0]._sizes = [10]\n",
    "#legend.legendHandles[1]._sizes = [20]\n",
    "plt.show()"
   ]
  }
 ],
 "metadata": {
  "colab": {
   "authorship_tag": "ABX9TyPRQLfJ1joHW/4H5567+e6k",
   "provenance": []
  },
  "kernelspec": {
   "display_name": "Python 3 (ipykernel)",
   "language": "python",
   "name": "python3"
  },
  "language_info": {
   "codemirror_mode": {
    "name": "ipython",
    "version": 3
   },
   "file_extension": ".py",
   "mimetype": "text/x-python",
   "name": "python",
   "nbconvert_exporter": "python",
   "pygments_lexer": "ipython3",
   "version": "3.10.9"
  }
 },
 "nbformat": 4,
 "nbformat_minor": 1
}
