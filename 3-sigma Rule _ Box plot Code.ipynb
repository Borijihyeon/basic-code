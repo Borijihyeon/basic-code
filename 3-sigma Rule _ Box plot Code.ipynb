{
 "cells": [
  {
   "cell_type": "markdown",
   "metadata": {
    "id": "Isx54cSsYGua"
   },
   "source": [
    "# **<font color=white> 02.3-sigma Rule & Box plot Code 실습**\n",
    "\n",
    "[목적]\n",
    "  - Anomaly Detection의 기초\n",
    "  - Univariate variable (단변량)일 때 사용\n",
    "  - 시각적으로 판단가능함\n",
    "  \n",
    "[Process]\n",
    "  1. Define Data\n",
    "  2. Modeling\n",
    "  3. Plotting"
   ]
  },
  {
   "cell_type": "code",
   "execution_count": 1,
   "metadata": {
    "colab": {
     "base_uri": "https://localhost:8080/"
    },
    "executionInfo": {
     "elapsed": 13251,
     "status": "ok",
     "timestamp": 1678195920990,
     "user": {
      "displayName": "안건이",
      "userId": "00323974519415085515"
     },
     "user_tz": -540
    },
    "id": "Chxafd3cYj85",
    "outputId": "18ff5441-831c-4781-de02-f323c3cf8d01"
   },
   "outputs": [
    {
     "name": "stdout",
     "output_type": "stream",
     "text": [
      "Looking in indexes: https://pypi.org/simple, https://us-python.pkg.dev/colab-wheels/public/simple/\n",
      "Collecting pyod\n",
      "  Downloading pyod-1.0.7.tar.gz (147 kB)\n",
      "\u001b[2K     \u001b[90m━━━━━━━━━━━━━━━━━━━━━━━━━━━━━━━━━━━━━━━\u001b[0m \u001b[32m147.7/147.7 KB\u001b[0m \u001b[31m3.2 MB/s\u001b[0m eta \u001b[36m0:00:00\u001b[0m\n",
      "\u001b[?25h  Preparing metadata (setup.py) ... \u001b[?25l\u001b[?25hdone\n",
      "Requirement already satisfied: joblib in /usr/local/lib/python3.8/dist-packages (from pyod) (1.2.0)\n",
      "Requirement already satisfied: matplotlib in /usr/local/lib/python3.8/dist-packages (from pyod) (3.5.3)\n",
      "Requirement already satisfied: numpy>=1.19 in /usr/local/lib/python3.8/dist-packages (from pyod) (1.22.4)\n",
      "Requirement already satisfied: numba>=0.51 in /usr/local/lib/python3.8/dist-packages (from pyod) (0.56.4)\n",
      "Requirement already satisfied: scipy>=1.5.1 in /usr/local/lib/python3.8/dist-packages (from pyod) (1.10.1)\n",
      "Requirement already satisfied: scikit_learn>=0.20.0 in /usr/local/lib/python3.8/dist-packages (from pyod) (1.2.1)\n",
      "Requirement already satisfied: six in /usr/local/lib/python3.8/dist-packages (from pyod) (1.15.0)\n",
      "Requirement already satisfied: statsmodels in /usr/local/lib/python3.8/dist-packages (from pyod) (0.13.5)\n",
      "Requirement already satisfied: setuptools in /usr/local/lib/python3.8/dist-packages (from numba>=0.51->pyod) (57.4.0)\n",
      "Requirement already satisfied: llvmlite<0.40,>=0.39.0dev0 in /usr/local/lib/python3.8/dist-packages (from numba>=0.51->pyod) (0.39.1)\n",
      "Requirement already satisfied: importlib-metadata in /usr/local/lib/python3.8/dist-packages (from numba>=0.51->pyod) (6.0.0)\n",
      "Requirement already satisfied: threadpoolctl>=2.0.0 in /usr/local/lib/python3.8/dist-packages (from scikit_learn>=0.20.0->pyod) (3.1.0)\n",
      "Requirement already satisfied: cycler>=0.10 in /usr/local/lib/python3.8/dist-packages (from matplotlib->pyod) (0.11.0)\n",
      "Requirement already satisfied: packaging>=20.0 in /usr/local/lib/python3.8/dist-packages (from matplotlib->pyod) (23.0)\n",
      "Requirement already satisfied: python-dateutil>=2.7 in /usr/local/lib/python3.8/dist-packages (from matplotlib->pyod) (2.8.2)\n",
      "Requirement already satisfied: kiwisolver>=1.0.1 in /usr/local/lib/python3.8/dist-packages (from matplotlib->pyod) (1.4.4)\n",
      "Requirement already satisfied: fonttools>=4.22.0 in /usr/local/lib/python3.8/dist-packages (from matplotlib->pyod) (4.38.0)\n",
      "Requirement already satisfied: pyparsing>=2.2.1 in /usr/local/lib/python3.8/dist-packages (from matplotlib->pyod) (3.0.9)\n",
      "Requirement already satisfied: pillow>=6.2.0 in /usr/local/lib/python3.8/dist-packages (from matplotlib->pyod) (8.4.0)\n",
      "Requirement already satisfied: patsy>=0.5.2 in /usr/local/lib/python3.8/dist-packages (from statsmodels->pyod) (0.5.3)\n",
      "Requirement already satisfied: pandas>=0.25 in /usr/local/lib/python3.8/dist-packages (from statsmodels->pyod) (1.3.5)\n",
      "Requirement already satisfied: pytz>=2017.3 in /usr/local/lib/python3.8/dist-packages (from pandas>=0.25->statsmodels->pyod) (2022.7.1)\n",
      "Requirement already satisfied: zipp>=0.5 in /usr/local/lib/python3.8/dist-packages (from importlib-metadata->numba>=0.51->pyod) (3.15.0)\n",
      "Building wheels for collected packages: pyod\n",
      "  Building wheel for pyod (setup.py) ... \u001b[?25l\u001b[?25hdone\n",
      "  Created wheel for pyod: filename=pyod-1.0.7-py3-none-any.whl size=181101 sha256=1b1ec043b94d4b1f8ae8ba1267095cd8a01950dd4a363ffbaf07828e0758f7c4\n",
      "  Stored in directory: /root/.cache/pip/wheels/f7/e2/c1/1c7fd8b261e72411f6509afb429c84532e40ddcd96074473f4\n",
      "Successfully built pyod\n",
      "Installing collected packages: pyod\n",
      "Successfully installed pyod-1.0.7\n"
     ]
    }
   ],
   "source": [
    "!pip install pyod"
   ]
  },
  {
   "cell_type": "code",
   "execution_count": 2,
   "metadata": {
    "executionInfo": {
     "elapsed": 16503,
     "status": "ok",
     "timestamp": 1678195937482,
     "user": {
      "displayName": "안건이",
      "userId": "00323974519415085515"
     },
     "user_tz": -540
    },
    "id": "kXudmrvuYgbl"
   },
   "outputs": [],
   "source": [
    "import tensorflow as tf\n",
    "import numpy as np\n",
    "import pandas as pd\n",
    "import matplotlib.pyplot as plt\n",
    "import seaborn as sns\n",
    "\n",
    "import warnings\n",
    "warnings.filterwarnings(\"ignore\")\n",
    "\n",
    "from pyod.utils.data import generate_data, get_outliers_inliers"
   ]
  },
  {
   "cell_type": "code",
   "execution_count": 3,
   "metadata": {
    "executionInfo": {
     "elapsed": 9,
     "status": "ok",
     "timestamp": 1678195937482,
     "user": {
      "displayName": "안건이",
      "userId": "00323974519415085515"
     },
     "user_tz": -540
    },
    "id": "D6G2ayNlY42R"
   },
   "outputs": [],
   "source": [
    "# Data Loading\n",
    "X, Y = generate_data(behaviour='new', n_features=10, \n",
    "                     train_only=True,\n",
    "                     contamination=0.1,\n",
    "                     random_state=2023)"
   ]
  },
  {
   "cell_type": "code",
   "execution_count": 4,
   "metadata": {
    "colab": {
     "base_uri": "https://localhost:8080/"
    },
    "executionInfo": {
     "elapsed": 297,
     "status": "ok",
     "timestamp": 1678195954648,
     "user": {
      "displayName": "안건이",
      "userId": "00323974519415085515"
     },
     "user_tz": -540
    },
    "id": "Ox7-vB8FRgU7",
    "outputId": "4c8ec8a0-5931-40ec-f5cd-047137ed18d2"
   },
   "outputs": [
    {
     "data": {
      "text/plain": [
       "array([[ 8.14712454,  6.59528228,  6.35355847, ...,  7.23050906,\n",
       "         7.45741768,  6.91669978],\n",
       "       [ 6.87217796,  6.59644768,  7.34971009, ...,  7.21802974,\n",
       "         7.81960358,  6.56356235],\n",
       "       [ 6.91046488,  5.85682661,  6.49570133, ...,  6.82231588,\n",
       "         7.47585203,  7.10680777],\n",
       "       ...,\n",
       "       [ 4.51696673, -5.64801092, -5.3305938 , ..., -0.23473631,\n",
       "         1.9417748 ,  5.09580244],\n",
       "       [ 2.223976  , -4.29540408,  2.19216752, ...,  2.54007832,\n",
       "        -5.53053477,  5.88465653],\n",
       "       [-2.66498659,  3.5250092 ,  1.69573986, ..., -5.31729594,\n",
       "         5.94561255,  6.61914717]])"
      ]
     },
     "execution_count": 4,
     "metadata": {},
     "output_type": "execute_result"
    }
   ],
   "source": [
    "X"
   ]
  },
  {
   "cell_type": "code",
   "execution_count": 5,
   "metadata": {
    "colab": {
     "base_uri": "https://localhost:8080/"
    },
    "executionInfo": {
     "elapsed": 262,
     "status": "ok",
     "timestamp": 1678195988626,
     "user": {
      "displayName": "안건이",
      "userId": "00323974519415085515"
     },
     "user_tz": -540
    },
    "id": "6Pm04XJoZaNF",
    "outputId": "c603234d-1dbe-452e-9f26-548ad9763e33"
   },
   "outputs": [
    {
     "name": "stdout",
     "output_type": "stream",
     "text": [
      "X1\n",
      "X2\n",
      "X3\n",
      "X4\n",
      "X5\n",
      "X6\n",
      "X7\n",
      "X8\n",
      "X9\n",
      "X10\n"
     ]
    }
   ],
   "source": [
    "# Naming for columns\n",
    "col_list = []\n",
    "for i in range(X.shape[1]):\n",
    "    a = 'X{}'.format(i+1)\n",
    "    print(a)\n",
    "    col_list.append(a)"
   ]
  },
  {
   "cell_type": "code",
   "execution_count": null,
   "metadata": {
    "colab": {
     "base_uri": "https://localhost:8080/"
    },
    "executionInfo": {
     "elapsed": 4,
     "status": "ok",
     "timestamp": 1678015955791,
     "user": {
      "displayName": "안건이",
      "userId": "00323974519415085515"
     },
     "user_tz": -540
    },
    "id": "hS2aFOkFZq4J",
    "outputId": "8ceb12eb-a14e-40bc-8e87-8a986a052aef"
   },
   "outputs": [
    {
     "data": {
      "text/plain": [
       "['X1', 'X2', 'X3', 'X4', 'X5', 'X6', 'X7', 'X8', 'X9', 'X10']"
      ]
     },
     "execution_count": 47,
     "metadata": {},
     "output_type": "execute_result"
    }
   ],
   "source": [
    "# Columns Name\n",
    "col_list"
   ]
  },
  {
   "cell_type": "code",
   "execution_count": 6,
   "metadata": {
    "executionInfo": {
     "elapsed": 261,
     "status": "ok",
     "timestamp": 1678196014167,
     "user": {
      "displayName": "안건이",
      "userId": "00323974519415085515"
     },
     "user_tz": -540
    },
    "id": "6ufF-CeSZfiG"
   },
   "outputs": [],
   "source": [
    "# Make DF\n",
    "df = pd.DataFrame(X, columns = col_list)\n",
    "df['Y'] = Y"
   ]
  },
  {
   "cell_type": "code",
   "execution_count": 7,
   "metadata": {
    "colab": {
     "base_uri": "https://localhost:8080/",
     "height": 423
    },
    "executionInfo": {
     "elapsed": 8,
     "status": "ok",
     "timestamp": 1678196015778,
     "user": {
      "displayName": "안건이",
      "userId": "00323974519415085515"
     },
     "user_tz": -540
    },
    "id": "77K6adhbZM-2",
    "outputId": "b3ea0133-fb3c-4bf7-b7a1-89161e497b89"
   },
   "outputs": [
    {
     "data": {
      "text/html": [
       "\n",
       "  <div id=\"df-2168e473-d75e-40b0-ba7d-65952f49d9d3\">\n",
       "    <div class=\"colab-df-container\">\n",
       "      <div>\n",
       "<style scoped>\n",
       "    .dataframe tbody tr th:only-of-type {\n",
       "        vertical-align: middle;\n",
       "    }\n",
       "\n",
       "    .dataframe tbody tr th {\n",
       "        vertical-align: top;\n",
       "    }\n",
       "\n",
       "    .dataframe thead th {\n",
       "        text-align: right;\n",
       "    }\n",
       "</style>\n",
       "<table border=\"1\" class=\"dataframe\">\n",
       "  <thead>\n",
       "    <tr style=\"text-align: right;\">\n",
       "      <th></th>\n",
       "      <th>X1</th>\n",
       "      <th>X2</th>\n",
       "      <th>X3</th>\n",
       "      <th>X4</th>\n",
       "      <th>X5</th>\n",
       "      <th>X6</th>\n",
       "      <th>X7</th>\n",
       "      <th>X8</th>\n",
       "      <th>X9</th>\n",
       "      <th>X10</th>\n",
       "      <th>Y</th>\n",
       "    </tr>\n",
       "  </thead>\n",
       "  <tbody>\n",
       "    <tr>\n",
       "      <th>0</th>\n",
       "      <td>8.147125</td>\n",
       "      <td>6.595282</td>\n",
       "      <td>6.353558</td>\n",
       "      <td>6.653506</td>\n",
       "      <td>8.134808</td>\n",
       "      <td>7.426514</td>\n",
       "      <td>6.474067</td>\n",
       "      <td>7.230509</td>\n",
       "      <td>7.457418</td>\n",
       "      <td>6.916700</td>\n",
       "      <td>0.0</td>\n",
       "    </tr>\n",
       "    <tr>\n",
       "      <th>1</th>\n",
       "      <td>6.872178</td>\n",
       "      <td>6.596448</td>\n",
       "      <td>7.349710</td>\n",
       "      <td>7.097543</td>\n",
       "      <td>7.024347</td>\n",
       "      <td>6.615302</td>\n",
       "      <td>6.753538</td>\n",
       "      <td>7.218030</td>\n",
       "      <td>7.819604</td>\n",
       "      <td>6.563562</td>\n",
       "      <td>0.0</td>\n",
       "    </tr>\n",
       "    <tr>\n",
       "      <th>2</th>\n",
       "      <td>6.910465</td>\n",
       "      <td>5.856827</td>\n",
       "      <td>6.495701</td>\n",
       "      <td>6.598612</td>\n",
       "      <td>8.042650</td>\n",
       "      <td>6.205240</td>\n",
       "      <td>7.024534</td>\n",
       "      <td>6.822316</td>\n",
       "      <td>7.475852</td>\n",
       "      <td>7.106808</td>\n",
       "      <td>0.0</td>\n",
       "    </tr>\n",
       "    <tr>\n",
       "      <th>3</th>\n",
       "      <td>6.901166</td>\n",
       "      <td>6.942458</td>\n",
       "      <td>6.354764</td>\n",
       "      <td>6.447391</td>\n",
       "      <td>6.595218</td>\n",
       "      <td>7.941335</td>\n",
       "      <td>6.104982</td>\n",
       "      <td>6.930397</td>\n",
       "      <td>8.076817</td>\n",
       "      <td>7.715245</td>\n",
       "      <td>0.0</td>\n",
       "    </tr>\n",
       "    <tr>\n",
       "      <th>4</th>\n",
       "      <td>7.465372</td>\n",
       "      <td>6.305800</td>\n",
       "      <td>7.858624</td>\n",
       "      <td>6.456638</td>\n",
       "      <td>7.610647</td>\n",
       "      <td>6.530033</td>\n",
       "      <td>7.509274</td>\n",
       "      <td>7.636209</td>\n",
       "      <td>7.650121</td>\n",
       "      <td>7.043726</td>\n",
       "      <td>0.0</td>\n",
       "    </tr>\n",
       "    <tr>\n",
       "      <th>...</th>\n",
       "      <td>...</td>\n",
       "      <td>...</td>\n",
       "      <td>...</td>\n",
       "      <td>...</td>\n",
       "      <td>...</td>\n",
       "      <td>...</td>\n",
       "      <td>...</td>\n",
       "      <td>...</td>\n",
       "      <td>...</td>\n",
       "      <td>...</td>\n",
       "      <td>...</td>\n",
       "    </tr>\n",
       "    <tr>\n",
       "      <th>995</th>\n",
       "      <td>-0.018529</td>\n",
       "      <td>5.163813</td>\n",
       "      <td>5.468692</td>\n",
       "      <td>-2.640285</td>\n",
       "      <td>-0.578817</td>\n",
       "      <td>1.487439</td>\n",
       "      <td>2.359938</td>\n",
       "      <td>-6.462774</td>\n",
       "      <td>2.466932</td>\n",
       "      <td>1.323520</td>\n",
       "      <td>1.0</td>\n",
       "    </tr>\n",
       "    <tr>\n",
       "      <th>996</th>\n",
       "      <td>3.328107</td>\n",
       "      <td>0.614357</td>\n",
       "      <td>5.886779</td>\n",
       "      <td>6.717434</td>\n",
       "      <td>2.906959</td>\n",
       "      <td>-6.980421</td>\n",
       "      <td>2.245124</td>\n",
       "      <td>-2.790132</td>\n",
       "      <td>-4.169568</td>\n",
       "      <td>0.832299</td>\n",
       "      <td>1.0</td>\n",
       "    </tr>\n",
       "    <tr>\n",
       "      <th>997</th>\n",
       "      <td>4.516967</td>\n",
       "      <td>-5.648011</td>\n",
       "      <td>-5.330594</td>\n",
       "      <td>-6.352683</td>\n",
       "      <td>-1.796092</td>\n",
       "      <td>5.129173</td>\n",
       "      <td>3.517025</td>\n",
       "      <td>-0.234736</td>\n",
       "      <td>1.941775</td>\n",
       "      <td>5.095802</td>\n",
       "      <td>1.0</td>\n",
       "    </tr>\n",
       "    <tr>\n",
       "      <th>998</th>\n",
       "      <td>2.223976</td>\n",
       "      <td>-4.295404</td>\n",
       "      <td>2.192168</td>\n",
       "      <td>1.202558</td>\n",
       "      <td>5.348682</td>\n",
       "      <td>3.638888</td>\n",
       "      <td>5.204538</td>\n",
       "      <td>2.540078</td>\n",
       "      <td>-5.530535</td>\n",
       "      <td>5.884657</td>\n",
       "      <td>1.0</td>\n",
       "    </tr>\n",
       "    <tr>\n",
       "      <th>999</th>\n",
       "      <td>-2.664987</td>\n",
       "      <td>3.525009</td>\n",
       "      <td>1.695740</td>\n",
       "      <td>2.237359</td>\n",
       "      <td>-3.769505</td>\n",
       "      <td>-5.775498</td>\n",
       "      <td>3.883142</td>\n",
       "      <td>-5.317296</td>\n",
       "      <td>5.945613</td>\n",
       "      <td>6.619147</td>\n",
       "      <td>1.0</td>\n",
       "    </tr>\n",
       "  </tbody>\n",
       "</table>\n",
       "<p>1000 rows × 11 columns</p>\n",
       "</div>\n",
       "      <button class=\"colab-df-convert\" onclick=\"convertToInteractive('df-2168e473-d75e-40b0-ba7d-65952f49d9d3')\"\n",
       "              title=\"Convert this dataframe to an interactive table.\"\n",
       "              style=\"display:none;\">\n",
       "        \n",
       "  <svg xmlns=\"http://www.w3.org/2000/svg\" height=\"24px\"viewBox=\"0 0 24 24\"\n",
       "       width=\"24px\">\n",
       "    <path d=\"M0 0h24v24H0V0z\" fill=\"none\"/>\n",
       "    <path d=\"M18.56 5.44l.94 2.06.94-2.06 2.06-.94-2.06-.94-.94-2.06-.94 2.06-2.06.94zm-11 1L8.5 8.5l.94-2.06 2.06-.94-2.06-.94L8.5 2.5l-.94 2.06-2.06.94zm10 10l.94 2.06.94-2.06 2.06-.94-2.06-.94-.94-2.06-.94 2.06-2.06.94z\"/><path d=\"M17.41 7.96l-1.37-1.37c-.4-.4-.92-.59-1.43-.59-.52 0-1.04.2-1.43.59L10.3 9.45l-7.72 7.72c-.78.78-.78 2.05 0 2.83L4 21.41c.39.39.9.59 1.41.59.51 0 1.02-.2 1.41-.59l7.78-7.78 2.81-2.81c.8-.78.8-2.07 0-2.86zM5.41 20L4 18.59l7.72-7.72 1.47 1.35L5.41 20z\"/>\n",
       "  </svg>\n",
       "      </button>\n",
       "      \n",
       "  <style>\n",
       "    .colab-df-container {\n",
       "      display:flex;\n",
       "      flex-wrap:wrap;\n",
       "      gap: 12px;\n",
       "    }\n",
       "\n",
       "    .colab-df-convert {\n",
       "      background-color: #E8F0FE;\n",
       "      border: none;\n",
       "      border-radius: 50%;\n",
       "      cursor: pointer;\n",
       "      display: none;\n",
       "      fill: #1967D2;\n",
       "      height: 32px;\n",
       "      padding: 0 0 0 0;\n",
       "      width: 32px;\n",
       "    }\n",
       "\n",
       "    .colab-df-convert:hover {\n",
       "      background-color: #E2EBFA;\n",
       "      box-shadow: 0px 1px 2px rgba(60, 64, 67, 0.3), 0px 1px 3px 1px rgba(60, 64, 67, 0.15);\n",
       "      fill: #174EA6;\n",
       "    }\n",
       "\n",
       "    [theme=dark] .colab-df-convert {\n",
       "      background-color: #3B4455;\n",
       "      fill: #D2E3FC;\n",
       "    }\n",
       "\n",
       "    [theme=dark] .colab-df-convert:hover {\n",
       "      background-color: #434B5C;\n",
       "      box-shadow: 0px 1px 3px 1px rgba(0, 0, 0, 0.15);\n",
       "      filter: drop-shadow(0px 1px 2px rgba(0, 0, 0, 0.3));\n",
       "      fill: #FFFFFF;\n",
       "    }\n",
       "  </style>\n",
       "\n",
       "      <script>\n",
       "        const buttonEl =\n",
       "          document.querySelector('#df-2168e473-d75e-40b0-ba7d-65952f49d9d3 button.colab-df-convert');\n",
       "        buttonEl.style.display =\n",
       "          google.colab.kernel.accessAllowed ? 'block' : 'none';\n",
       "\n",
       "        async function convertToInteractive(key) {\n",
       "          const element = document.querySelector('#df-2168e473-d75e-40b0-ba7d-65952f49d9d3');\n",
       "          const dataTable =\n",
       "            await google.colab.kernel.invokeFunction('convertToInteractive',\n",
       "                                                     [key], {});\n",
       "          if (!dataTable) return;\n",
       "\n",
       "          const docLinkHtml = 'Like what you see? Visit the ' +\n",
       "            '<a target=\"_blank\" href=https://colab.research.google.com/notebooks/data_table.ipynb>data table notebook</a>'\n",
       "            + ' to learn more about interactive tables.';\n",
       "          element.innerHTML = '';\n",
       "          dataTable['output_type'] = 'display_data';\n",
       "          await google.colab.output.renderOutput(dataTable, element);\n",
       "          const docLink = document.createElement('div');\n",
       "          docLink.innerHTML = docLinkHtml;\n",
       "          element.appendChild(docLink);\n",
       "        }\n",
       "      </script>\n",
       "    </div>\n",
       "  </div>\n",
       "  "
      ],
      "text/plain": [
       "           X1        X2        X3        X4        X5        X6        X7  \\\n",
       "0    8.147125  6.595282  6.353558  6.653506  8.134808  7.426514  6.474067   \n",
       "1    6.872178  6.596448  7.349710  7.097543  7.024347  6.615302  6.753538   \n",
       "2    6.910465  5.856827  6.495701  6.598612  8.042650  6.205240  7.024534   \n",
       "3    6.901166  6.942458  6.354764  6.447391  6.595218  7.941335  6.104982   \n",
       "4    7.465372  6.305800  7.858624  6.456638  7.610647  6.530033  7.509274   \n",
       "..        ...       ...       ...       ...       ...       ...       ...   \n",
       "995 -0.018529  5.163813  5.468692 -2.640285 -0.578817  1.487439  2.359938   \n",
       "996  3.328107  0.614357  5.886779  6.717434  2.906959 -6.980421  2.245124   \n",
       "997  4.516967 -5.648011 -5.330594 -6.352683 -1.796092  5.129173  3.517025   \n",
       "998  2.223976 -4.295404  2.192168  1.202558  5.348682  3.638888  5.204538   \n",
       "999 -2.664987  3.525009  1.695740  2.237359 -3.769505 -5.775498  3.883142   \n",
       "\n",
       "           X8        X9       X10    Y  \n",
       "0    7.230509  7.457418  6.916700  0.0  \n",
       "1    7.218030  7.819604  6.563562  0.0  \n",
       "2    6.822316  7.475852  7.106808  0.0  \n",
       "3    6.930397  8.076817  7.715245  0.0  \n",
       "4    7.636209  7.650121  7.043726  0.0  \n",
       "..        ...       ...       ...  ...  \n",
       "995 -6.462774  2.466932  1.323520  1.0  \n",
       "996 -2.790132 -4.169568  0.832299  1.0  \n",
       "997 -0.234736  1.941775  5.095802  1.0  \n",
       "998  2.540078 -5.530535  5.884657  1.0  \n",
       "999 -5.317296  5.945613  6.619147  1.0  \n",
       "\n",
       "[1000 rows x 11 columns]"
      ]
     },
     "execution_count": 7,
     "metadata": {},
     "output_type": "execute_result"
    }
   ],
   "source": [
    "df"
   ]
  },
  {
   "cell_type": "code",
   "execution_count": 8,
   "metadata": {
    "colab": {
     "base_uri": "https://localhost:8080/",
     "height": 313
    },
    "executionInfo": {
     "elapsed": 1157,
     "status": "ok",
     "timestamp": 1678196023834,
     "user": {
      "displayName": "안건이",
      "userId": "00323974519415085515"
     },
     "user_tz": -540
    },
    "id": "3wb9SG9rZBOW",
    "outputId": "3005871c-9e93-4ba6-af60-d733aa086407"
   },
   "outputs": [
    {
     "data": {
      "text/plain": [
       "Text(0.5, 1.0, 'Ground Truth')"
      ]
     },
     "execution_count": 8,
     "metadata": {},
     "output_type": "execute_result"
    },
    {
     "data": {
      "image/png": "[encoded data removed]",
      "text/plain": [
       "<Figure size 432x288 with 1 Axes>"
      ]
     },
     "metadata": {
      "needs_background": "light"
     },
     "output_type": "display_data"
    }
   ],
   "source": [
    "# Data 분포 확인하기 X1, X2\n",
    "sns.scatterplot(x='X1', y='X2', hue='Y', data=df);\n",
    "plt.title('Ground Truth')"
   ]
  },
  {
   "cell_type": "markdown",
   "metadata": {
    "id": "JaPUMeAiaLAg"
   },
   "source": [
    "[3-Sigma Rule]\n",
    "\n",
    "* 사용방법\n",
    "```\n",
    "# 데이터의 분포를 정규분포로 가정하고, 평균으로부터 (표준편차 x 시그마 계수σ)를 벗어나면 아웃라이어라고 판단함\n",
    "# 시그마 계수(σ)\n",
    "```\n",
    "\n",
    "* 현업사례\n",
    "```\n",
    "# 공정 센서 데이터 이상탐지\n",
    "# 검사 및 측정 데이터 이상탐지 \n",
    "```"
   ]
  },
  {
   "cell_type": "code",
   "execution_count": null,
   "metadata": {
    "id": "UoyBz7WqaUTD"
   },
   "outputs": [],
   "source": [
    "# ▶ UCL, LCL 생성\n",
    "df['UCL_X1'] = df['X1'].mean() + 1*df['X1'].std()\n",
    "df['LCL_X1'] = df['X1'].mean() - 1*df['X1'].std()\n",
    "\n",
    "df['UCL_X2'] = df['X2'].mean() + 1*df['X2'].std()\n",
    "df['LCL_X2'] = df['X2'].mean() - 1*df['X2'].std()"
   ]
  },
  {
   "cell_type": "code",
   "execution_count": null,
   "metadata": {
    "colab": {
     "base_uri": "https://localhost:8080/",
     "height": 487
    },
    "executionInfo": {
     "elapsed": 3,
     "status": "ok",
     "timestamp": 1678015970664,
     "user": {
      "displayName": "안건이",
      "userId": "00323974519415085515"
     },
     "user_tz": -540
    },
    "id": "I9fuDQM2bHvk",
    "outputId": "c54c0d4d-e7db-477a-8314-687f7fabd4b8"
   },
   "outputs": [
    {
     "data": {
      "text/html": [
       "\n",
       "  <div id=\"df-a0094961-c7f5-4384-b41d-60fd7e7f270e\">\n",
       "    <div class=\"colab-df-container\">\n",
       "      <div>\n",
       "<style scoped>\n",
       "    .dataframe tbody tr th:only-of-type {\n",
       "        vertical-align: middle;\n",
       "    }\n",
       "\n",
       "    .dataframe tbody tr th {\n",
       "        vertical-align: top;\n",
       "    }\n",
       "\n",
       "    .dataframe thead th {\n",
       "        text-align: right;\n",
       "    }\n",
       "</style>\n",
       "<table border=\"1\" class=\"dataframe\">\n",
       "  <thead>\n",
       "    <tr style=\"text-align: right;\">\n",
       "      <th></th>\n",
       "      <th>X1</th>\n",
       "      <th>X2</th>\n",
       "      <th>X3</th>\n",
       "      <th>X4</th>\n",
       "      <th>X5</th>\n",
       "      <th>X6</th>\n",
       "      <th>X7</th>\n",
       "      <th>X8</th>\n",
       "      <th>X9</th>\n",
       "      <th>X10</th>\n",
       "      <th>Y</th>\n",
       "      <th>UCL_X1</th>\n",
       "      <th>LCL_X1</th>\n",
       "      <th>UCL_X2</th>\n",
       "      <th>LCL_X2</th>\n",
       "    </tr>\n",
       "  </thead>\n",
       "  <tbody>\n",
       "    <tr>\n",
       "      <th>0</th>\n",
       "      <td>8.147125</td>\n",
       "      <td>6.595282</td>\n",
       "      <td>6.353558</td>\n",
       "      <td>6.653506</td>\n",
       "      <td>8.134808</td>\n",
       "      <td>7.426514</td>\n",
       "      <td>6.474067</td>\n",
       "      <td>7.230509</td>\n",
       "      <td>7.457418</td>\n",
       "      <td>6.916700</td>\n",
       "      <td>0.0</td>\n",
       "      <td>8.787653</td>\n",
       "      <td>3.864185</td>\n",
       "      <td>8.714817</td>\n",
       "      <td>4.116582</td>\n",
       "    </tr>\n",
       "    <tr>\n",
       "      <th>1</th>\n",
       "      <td>6.872178</td>\n",
       "      <td>6.596448</td>\n",
       "      <td>7.349710</td>\n",
       "      <td>7.097543</td>\n",
       "      <td>7.024347</td>\n",
       "      <td>6.615302</td>\n",
       "      <td>6.753538</td>\n",
       "      <td>7.218030</td>\n",
       "      <td>7.819604</td>\n",
       "      <td>6.563562</td>\n",
       "      <td>0.0</td>\n",
       "      <td>8.787653</td>\n",
       "      <td>3.864185</td>\n",
       "      <td>8.714817</td>\n",
       "      <td>4.116582</td>\n",
       "    </tr>\n",
       "    <tr>\n",
       "      <th>2</th>\n",
       "      <td>6.910465</td>\n",
       "      <td>5.856827</td>\n",
       "      <td>6.495701</td>\n",
       "      <td>6.598612</td>\n",
       "      <td>8.042650</td>\n",
       "      <td>6.205240</td>\n",
       "      <td>7.024534</td>\n",
       "      <td>6.822316</td>\n",
       "      <td>7.475852</td>\n",
       "      <td>7.106808</td>\n",
       "      <td>0.0</td>\n",
       "      <td>8.787653</td>\n",
       "      <td>3.864185</td>\n",
       "      <td>8.714817</td>\n",
       "      <td>4.116582</td>\n",
       "    </tr>\n",
       "    <tr>\n",
       "      <th>3</th>\n",
       "      <td>6.901166</td>\n",
       "      <td>6.942458</td>\n",
       "      <td>6.354764</td>\n",
       "      <td>6.447391</td>\n",
       "      <td>6.595218</td>\n",
       "      <td>7.941335</td>\n",
       "      <td>6.104982</td>\n",
       "      <td>6.930397</td>\n",
       "      <td>8.076817</td>\n",
       "      <td>7.715245</td>\n",
       "      <td>0.0</td>\n",
       "      <td>8.787653</td>\n",
       "      <td>3.864185</td>\n",
       "      <td>8.714817</td>\n",
       "      <td>4.116582</td>\n",
       "    </tr>\n",
       "    <tr>\n",
       "      <th>4</th>\n",
       "      <td>7.465372</td>\n",
       "      <td>6.305800</td>\n",
       "      <td>7.858624</td>\n",
       "      <td>6.456638</td>\n",
       "      <td>7.610647</td>\n",
       "      <td>6.530033</td>\n",
       "      <td>7.509274</td>\n",
       "      <td>7.636209</td>\n",
       "      <td>7.650121</td>\n",
       "      <td>7.043726</td>\n",
       "      <td>0.0</td>\n",
       "      <td>8.787653</td>\n",
       "      <td>3.864185</td>\n",
       "      <td>8.714817</td>\n",
       "      <td>4.116582</td>\n",
       "    </tr>\n",
       "    <tr>\n",
       "      <th>...</th>\n",
       "      <td>...</td>\n",
       "      <td>...</td>\n",
       "      <td>...</td>\n",
       "      <td>...</td>\n",
       "      <td>...</td>\n",
       "      <td>...</td>\n",
       "      <td>...</td>\n",
       "      <td>...</td>\n",
       "      <td>...</td>\n",
       "      <td>...</td>\n",
       "      <td>...</td>\n",
       "      <td>...</td>\n",
       "      <td>...</td>\n",
       "      <td>...</td>\n",
       "      <td>...</td>\n",
       "    </tr>\n",
       "    <tr>\n",
       "      <th>995</th>\n",
       "      <td>-0.018529</td>\n",
       "      <td>5.163813</td>\n",
       "      <td>5.468692</td>\n",
       "      <td>-2.640285</td>\n",
       "      <td>-0.578817</td>\n",
       "      <td>1.487439</td>\n",
       "      <td>2.359938</td>\n",
       "      <td>-6.462774</td>\n",
       "      <td>2.466932</td>\n",
       "      <td>1.323520</td>\n",
       "      <td>1.0</td>\n",
       "      <td>8.787653</td>\n",
       "      <td>3.864185</td>\n",
       "      <td>8.714817</td>\n",
       "      <td>4.116582</td>\n",
       "    </tr>\n",
       "    <tr>\n",
       "      <th>996</th>\n",
       "      <td>3.328107</td>\n",
       "      <td>0.614357</td>\n",
       "      <td>5.886779</td>\n",
       "      <td>6.717434</td>\n",
       "      <td>2.906959</td>\n",
       "      <td>-6.980421</td>\n",
       "      <td>2.245124</td>\n",
       "      <td>-2.790132</td>\n",
       "      <td>-4.169568</td>\n",
       "      <td>0.832299</td>\n",
       "      <td>1.0</td>\n",
       "      <td>8.787653</td>\n",
       "      <td>3.864185</td>\n",
       "      <td>8.714817</td>\n",
       "      <td>4.116582</td>\n",
       "    </tr>\n",
       "    <tr>\n",
       "      <th>997</th>\n",
       "      <td>4.516967</td>\n",
       "      <td>-5.648011</td>\n",
       "      <td>-5.330594</td>\n",
       "      <td>-6.352683</td>\n",
       "      <td>-1.796092</td>\n",
       "      <td>5.129173</td>\n",
       "      <td>3.517025</td>\n",
       "      <td>-0.234736</td>\n",
       "      <td>1.941775</td>\n",
       "      <td>5.095802</td>\n",
       "      <td>1.0</td>\n",
       "      <td>8.787653</td>\n",
       "      <td>3.864185</td>\n",
       "      <td>8.714817</td>\n",
       "      <td>4.116582</td>\n",
       "    </tr>\n",
       "    <tr>\n",
       "      <th>998</th>\n",
       "      <td>2.223976</td>\n",
       "      <td>-4.295404</td>\n",
       "      <td>2.192168</td>\n",
       "      <td>1.202558</td>\n",
       "      <td>5.348682</td>\n",
       "      <td>3.638888</td>\n",
       "      <td>5.204538</td>\n",
       "      <td>2.540078</td>\n",
       "      <td>-5.530535</td>\n",
       "      <td>5.884657</td>\n",
       "      <td>1.0</td>\n",
       "      <td>8.787653</td>\n",
       "      <td>3.864185</td>\n",
       "      <td>8.714817</td>\n",
       "      <td>4.116582</td>\n",
       "    </tr>\n",
       "    <tr>\n",
       "      <th>999</th>\n",
       "      <td>-2.664987</td>\n",
       "      <td>3.525009</td>\n",
       "      <td>1.695740</td>\n",
       "      <td>2.237359</td>\n",
       "      <td>-3.769505</td>\n",
       "      <td>-5.775498</td>\n",
       "      <td>3.883142</td>\n",
       "      <td>-5.317296</td>\n",
       "      <td>5.945613</td>\n",
       "      <td>6.619147</td>\n",
       "      <td>1.0</td>\n",
       "      <td>8.787653</td>\n",
       "      <td>3.864185</td>\n",
       "      <td>8.714817</td>\n",
       "      <td>4.116582</td>\n",
       "    </tr>\n",
       "  </tbody>\n",
       "</table>\n",
       "<p>1000 rows × 15 columns</p>\n",
       "</div>\n",
       "      <button class=\"colab-df-convert\" onclick=\"convertToInteractive('df-a0094961-c7f5-4384-b41d-60fd7e7f270e')\"\n",
       "              title=\"Convert this dataframe to an interactive table.\"\n",
       "              style=\"display:none;\">\n",
       "        \n",
       "  <svg xmlns=\"http://www.w3.org/2000/svg\" height=\"24px\"viewBox=\"0 0 24 24\"\n",
       "       width=\"24px\">\n",
       "    <path d=\"M0 0h24v24H0V0z\" fill=\"none\"/>\n",
       "    <path d=\"M18.56 5.44l.94 2.06.94-2.06 2.06-.94-2.06-.94-.94-2.06-.94 2.06-2.06.94zm-11 1L8.5 8.5l.94-2.06 2.06-.94-2.06-.94L8.5 2.5l-.94 2.06-2.06.94zm10 10l.94 2.06.94-2.06 2.06-.94-2.06-.94-.94-2.06-.94 2.06-2.06.94z\"/><path d=\"M17.41 7.96l-1.37-1.37c-.4-.4-.92-.59-1.43-.59-.52 0-1.04.2-1.43.59L10.3 9.45l-7.72 7.72c-.78.78-.78 2.05 0 2.83L4 21.41c.39.39.9.59 1.41.59.51 0 1.02-.2 1.41-.59l7.78-7.78 2.81-2.81c.8-.78.8-2.07 0-2.86zM5.41 20L4 18.59l7.72-7.72 1.47 1.35L5.41 20z\"/>\n",
       "  </svg>\n",
       "      </button>\n",
       "      \n",
       "  <style>\n",
       "    .colab-df-container {\n",
       "      display:flex;\n",
       "      flex-wrap:wrap;\n",
       "      gap: 12px;\n",
       "    }\n",
       "\n",
       "    .colab-df-convert {\n",
       "      background-color: #E8F0FE;\n",
       "      border: none;\n",
       "      border-radius: 50%;\n",
       "      cursor: pointer;\n",
       "      display: none;\n",
       "      fill: #1967D2;\n",
       "      height: 32px;\n",
       "      padding: 0 0 0 0;\n",
       "      width: 32px;\n",
       "    }\n",
       "\n",
       "    .colab-df-convert:hover {\n",
       "      background-color: #E2EBFA;\n",
       "      box-shadow: 0px 1px 2px rgba(60, 64, 67, 0.3), 0px 1px 3px 1px rgba(60, 64, 67, 0.15);\n",
       "      fill: #174EA6;\n",
       "    }\n",
       "\n",
       "    [theme=dark] .colab-df-convert {\n",
       "      background-color: #3B4455;\n",
       "      fill: #D2E3FC;\n",
       "    }\n",
       "\n",
       "    [theme=dark] .colab-df-convert:hover {\n",
       "      background-color: #434B5C;\n",
       "      box-shadow: 0px 1px 3px 1px rgba(0, 0, 0, 0.15);\n",
       "      filter: drop-shadow(0px 1px 2px rgba(0, 0, 0, 0.3));\n",
       "      fill: #FFFFFF;\n",
       "    }\n",
       "  </style>\n",
       "\n",
       "      <script>\n",
       "        const buttonEl =\n",
       "          document.querySelector('#df-a0094961-c7f5-4384-b41d-60fd7e7f270e button.colab-df-convert');\n",
       "        buttonEl.style.display =\n",
       "          google.colab.kernel.accessAllowed ? 'block' : 'none';\n",
       "\n",
       "        async function convertToInteractive(key) {\n",
       "          const element = document.querySelector('#df-a0094961-c7f5-4384-b41d-60fd7e7f270e');\n",
       "          const dataTable =\n",
       "            await google.colab.kernel.invokeFunction('convertToInteractive',\n",
       "                                                     [key], {});\n",
       "          if (!dataTable) return;\n",
       "\n",
       "          const docLinkHtml = 'Like what you see? Visit the ' +\n",
       "            '<a target=\"_blank\" href=https://colab.research.google.com/notebooks/data_table.ipynb>data table notebook</a>'\n",
       "            + ' to learn more about interactive tables.';\n",
       "          element.innerHTML = '';\n",
       "          dataTable['output_type'] = 'display_data';\n",
       "          await google.colab.output.renderOutput(dataTable, element);\n",
       "          const docLink = document.createElement('div');\n",
       "          docLink.innerHTML = docLinkHtml;\n",
       "          element.appendChild(docLink);\n",
       "        }\n",
       "      </script>\n",
       "    </div>\n",
       "  </div>\n",
       "  "
      ],
      "text/plain": [
       "           X1        X2        X3        X4        X5        X6        X7  \\\n",
       "0    8.147125  6.595282  6.353558  6.653506  8.134808  7.426514  6.474067   \n",
       "1    6.872178  6.596448  7.349710  7.097543  7.024347  6.615302  6.753538   \n",
       "2    6.910465  5.856827  6.495701  6.598612  8.042650  6.205240  7.024534   \n",
       "3    6.901166  6.942458  6.354764  6.447391  6.595218  7.941335  6.104982   \n",
       "4    7.465372  6.305800  7.858624  6.456638  7.610647  6.530033  7.509274   \n",
       "..        ...       ...       ...       ...       ...       ...       ...   \n",
       "995 -0.018529  5.163813  5.468692 -2.640285 -0.578817  1.487439  2.359938   \n",
       "996  3.328107  0.614357  5.886779  6.717434  2.906959 -6.980421  2.245124   \n",
       "997  4.516967 -5.648011 -5.330594 -6.352683 -1.796092  5.129173  3.517025   \n",
       "998  2.223976 -4.295404  2.192168  1.202558  5.348682  3.638888  5.204538   \n",
       "999 -2.664987  3.525009  1.695740  2.237359 -3.769505 -5.775498  3.883142   \n",
       "\n",
       "           X8        X9       X10    Y    UCL_X1    LCL_X1    UCL_X2    LCL_X2  \n",
       "0    7.230509  7.457418  6.916700  0.0  8.787653  3.864185  8.714817  4.116582  \n",
       "1    7.218030  7.819604  6.563562  0.0  8.787653  3.864185  8.714817  4.116582  \n",
       "2    6.822316  7.475852  7.106808  0.0  8.787653  3.864185  8.714817  4.116582  \n",
       "3    6.930397  8.076817  7.715245  0.0  8.787653  3.864185  8.714817  4.116582  \n",
       "4    7.636209  7.650121  7.043726  0.0  8.787653  3.864185  8.714817  4.116582  \n",
       "..        ...       ...       ...  ...       ...       ...       ...       ...  \n",
       "995 -6.462774  2.466932  1.323520  1.0  8.787653  3.864185  8.714817  4.116582  \n",
       "996 -2.790132 -4.169568  0.832299  1.0  8.787653  3.864185  8.714817  4.116582  \n",
       "997 -0.234736  1.941775  5.095802  1.0  8.787653  3.864185  8.714817  4.116582  \n",
       "998  2.540078 -5.530535  5.884657  1.0  8.787653  3.864185  8.714817  4.116582  \n",
       "999 -5.317296  5.945613  6.619147  1.0  8.787653  3.864185  8.714817  4.116582  \n",
       "\n",
       "[1000 rows x 15 columns]"
      ]
     },
     "execution_count": 52,
     "metadata": {},
     "output_type": "execute_result"
    }
   ],
   "source": [
    "df"
   ]
  },
  {
   "cell_type": "code",
   "execution_count": null,
   "metadata": {
    "colab": {
     "base_uri": "https://localhost:8080/",
     "height": 467
    },
    "executionInfo": {
     "elapsed": 1169,
     "status": "ok",
     "timestamp": 1678015972595,
     "user": {
      "displayName": "안건이",
      "userId": "00323974519415085515"
     },
     "user_tz": -540
    },
    "id": "Ei_981tOglIN",
    "outputId": "354f02ea-fd92-4363-ecf5-947453aa75f7"
   },
   "outputs": [
    {
     "data": {
      "text/plain": [
       "<AxesSubplot:xlabel='X2', ylabel='Density'>"
      ]
     },
     "execution_count": 53,
     "metadata": {},
     "output_type": "execute_result"
    },
    {
     "data": {
      "image/png": "[encoded data removed]",
      "text/plain": [
       "<Figure size 640x480 with 1 Axes>"
      ]
     },
     "metadata": {},
     "output_type": "display_data"
    }
   ],
   "source": [
    "sns.distplot(df['X1'], color = 'blue', label = 'X1')\n",
    "sns.distplot(df['X2'], color = 'red', label = 'X2')"
   ]
  },
  {
   "cell_type": "code",
   "execution_count": null,
   "metadata": {
    "colab": {
     "base_uri": "https://localhost:8080/",
     "height": 322
    },
    "executionInfo": {
     "elapsed": 9,
     "status": "ok",
     "timestamp": 1678015972596,
     "user": {
      "displayName": "안건이",
      "userId": "00323974519415085515"
     },
     "user_tz": -540
    },
    "id": "fBcLvyWSbKIY",
    "outputId": "7551d7f0-62a1-4a8f-9f4c-f90e108809c1"
   },
   "outputs": [
    {
     "data": {
      "image/png": "[encoded data removed]",
      "text/plain": [
       "<Figure size 1080x360 with 1 Axes>"
      ]
     },
     "metadata": {},
     "output_type": "display_data"
    }
   ],
   "source": [
    "# X1 Plotting\n",
    "%matplotlib inline\n",
    "plt.style.use(['dark_background'])\n",
    "\n",
    "sns.scatterplot(x=list(df.index), y=df['X1']);\n",
    "plt.axhline(y=df['UCL_X1'][0], color='r', linewidth=1)\n",
    "plt.axhline(y=df['LCL_X1'][0], color='r', linewidth=1)\n",
    "plt.gcf().set_size_inches(15, 5)"
   ]
  },
  {
   "cell_type": "code",
   "execution_count": null,
   "metadata": {
    "colab": {
     "base_uri": "https://localhost:8080/",
     "height": 320
    },
    "executionInfo": {
     "elapsed": 581,
     "status": "ok",
     "timestamp": 1678015973170,
     "user": {
      "displayName": "안건이",
      "userId": "00323974519415085515"
     },
     "user_tz": -540
    },
    "id": "WLBx8zmfb4aF",
    "outputId": "304389cc-db52-483e-db25-2c085bb28f92"
   },
   "outputs": [
    {
     "data": {
      "image/png": "[encoded data removed]",
      "text/plain": [
       "<Figure size 1080x360 with 1 Axes>"
      ]
     },
     "metadata": {},
     "output_type": "display_data"
    }
   ],
   "source": [
    "# X2 Plotting\n",
    "%matplotlib inline\n",
    "plt.style.use(['dark_background'])\n",
    "\n",
    "sns.scatterplot(x=list(df.index), y=df['X2']);\n",
    "plt.axhline(y=df['UCL_X2'][0], color='r', linewidth=1)\n",
    "plt.axhline(y=df['LCL_X2'][0], color='r', linewidth=1)\n",
    "plt.gcf().set_size_inches(15, 5)"
   ]
  },
  {
   "cell_type": "markdown",
   "metadata": {
    "id": "G46KSaRPcXGn"
   },
   "source": [
    "[Box plot]\n",
    "* 사용방법\n",
    "```\n",
    "# 주어진 데이터에서 각 사분위수를 계산한다.\n",
    "# 그래프에서 제 1사분위수와 제 3사분위수를 기준으로 박스를 그린다.\n",
    "# 제 2사분위수에 해당하는 위치에 선을 긎는다.\n",
    "# 제 3사분위수에서 1.5IQR을 더한 위치에 가로 선을 긎고 제 3사분위수부터 가로선까지 세로선을 긎는다.\n",
    "# 제 1사분위수에서 1.5IQR을 뺀 위치에 가로 선을 긎고 제 1사분위수부터 가로선까지 세로선을 긎는다.\n",
    "#4,5번에 그은 직선을 넘어서는 위치에 존재하는 값은 동그라미와 같은 기호로 표시한다.(이상치 의미) \n",
    "```\n",
    "\n",
    "* 용어\n",
    "```\n",
    "# median - 중앙값\n",
    "# IQR : 25% ~ 75%에 해당한 부분 \n",
    "# 75th Percentile : 제 3사분위수\n",
    "# 25th Percentile : 제 1사분위수\n",
    "# Whisker : 최댓값, 최솟값\n",
    "# Outlier : 이상치 (Q3+1.5 IQR, Q1-1.5 IQR)\n",
    "```\n"
   ]
  },
  {
   "cell_type": "code",
   "execution_count": 9,
   "metadata": {
    "colab": {
     "base_uri": "https://localhost:8080/",
     "height": 624
    },
    "executionInfo": {
     "elapsed": 1262,
     "status": "ok",
     "timestamp": 1678196499594,
     "user": {
      "displayName": "안건이",
      "userId": "00323974519415085515"
     },
     "user_tz": -540
    },
    "id": "fIj5Jy7Cb-U-",
    "outputId": "a41f959d-7db9-4d7e-8000-37ba1f3d941e"
   },
   "outputs": [
    {
     "data": {
      "image/png": "[encoded data removed]",
      "text/plain": [
       "<Figure size 300x700 with 1 Axes>"
      ]
     },
     "metadata": {},
     "output_type": "display_data"
    }
   ],
   "source": [
    "# ▶ Box plot 그려보기\n",
    "plt.style.use(['default'])\n",
    "labels = ['X1', 'X2', 'X3']\n",
    "\n",
    "fig, ax = plt.subplots(figsize=(3,7)) ;\n",
    "box = ax.boxplot([df['X1'], df['X2'], df['X3']], widths=0.7, sym='b*', showmeans=True);\n",
    "ax.set_ylim(4.5, 10.0);\n",
    "ax.set_xlabel(\"X's\");\n",
    "ax.set_ylabel('Value');"
   ]
  },
  {
   "cell_type": "code",
   "execution_count": null,
   "metadata": {
    "id": "FPGYVbjvi8Ha"
   },
   "outputs": [],
   "source": []
  }
 ],
 "metadata": {
  "colab": {
   "authorship_tag": "ABX9TyPrvL7snJvRbXuIX4obezyo",
   "provenance": []
  },
  "kernelspec": {
   "display_name": "Python 3 (ipykernel)",
   "language": "python",
   "name": "python3"
  },
  "language_info": {
   "codemirror_mode": {
    "name": "ipython",
    "version": 3
   },
   "file_extension": ".py",
   "mimetype": "text/x-python",
   "name": "python",
   "nbconvert_exporter": "python",
   "pygments_lexer": "ipython3",
   "version": "3.10.9"
  }
 },
 "nbformat": 4,
 "nbformat_minor": 1
}
